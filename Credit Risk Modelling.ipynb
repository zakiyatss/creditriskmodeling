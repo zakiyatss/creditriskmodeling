{
 "cells": [
  {
   "cell_type": "code",
   "execution_count": 1,
   "id": "b996b3d0",
   "metadata": {},
   "outputs": [],
   "source": [
    "import pandas as pd\n",
    "import numpy as np\n",
    "import matplotlib.pyplot as plt\n",
    "import seaborn as sns\n",
    "\n",
    "from scipy.stats import skew\n",
    "from scipy.stats import kurtosis\n",
    "import scipy.stats as stats\n",
    "from sklearn import preprocessing\n",
    "from scipy.stats import chi2_contingency\n",
    "from statsmodels.graphics.mosaicplot import mosaic\n",
    "from itertools import combinations\n",
    "import warnings\n",
    "warnings.filterwarnings(\"ignore\")"
   ]
  },
  {
   "cell_type": "code",
   "execution_count": 2,
   "id": "54600f1a",
   "metadata": {},
   "outputs": [],
   "source": [
    "data = pd.read_csv(\"app_test.csv\")"
   ]
  },
  {
   "cell_type": "code",
   "execution_count": 3,
   "id": "a706a87c",
   "metadata": {},
   "outputs": [
    {
     "data": {
      "text/html": [
       "<div>\n",
       "<style scoped>\n",
       "    .dataframe tbody tr th:only-of-type {\n",
       "        vertical-align: middle;\n",
       "    }\n",
       "\n",
       "    .dataframe tbody tr th {\n",
       "        vertical-align: top;\n",
       "    }\n",
       "\n",
       "    .dataframe thead th {\n",
       "        text-align: right;\n",
       "    }\n",
       "</style>\n",
       "<table border=\"1\" class=\"dataframe\">\n",
       "  <thead>\n",
       "    <tr style=\"text-align: right;\">\n",
       "      <th></th>\n",
       "      <th>Unnamed: 0</th>\n",
       "      <th>LN_ID</th>\n",
       "      <th>TARGET</th>\n",
       "      <th>CONTRACT_TYPE</th>\n",
       "      <th>GENDER</th>\n",
       "      <th>NUM_CHILDREN</th>\n",
       "      <th>INCOME</th>\n",
       "      <th>APPROVED_CREDIT</th>\n",
       "      <th>ANNUITY</th>\n",
       "      <th>PRICE</th>\n",
       "      <th>...</th>\n",
       "      <th>DAYS_AGE</th>\n",
       "      <th>DAYS_WORK</th>\n",
       "      <th>DAYS_REGISTRATION</th>\n",
       "      <th>DAYS_ID_CHANGE</th>\n",
       "      <th>WEEKDAYS_APPLY</th>\n",
       "      <th>HOUR_APPLY</th>\n",
       "      <th>ORGANIZATION_TYPE</th>\n",
       "      <th>EXT_SCORE_1</th>\n",
       "      <th>EXT_SCORE_2</th>\n",
       "      <th>EXT_SCORE_3</th>\n",
       "    </tr>\n",
       "  </thead>\n",
       "  <tbody>\n",
       "    <tr>\n",
       "      <th>0</th>\n",
       "      <td>102590</td>\n",
       "      <td>219092</td>\n",
       "      <td>0</td>\n",
       "      <td>Cash loans</td>\n",
       "      <td>M</td>\n",
       "      <td>3</td>\n",
       "      <td>135000.0</td>\n",
       "      <td>871029.0</td>\n",
       "      <td>44604.0</td>\n",
       "      <td>765000.0</td>\n",
       "      <td>...</td>\n",
       "      <td>-17598</td>\n",
       "      <td>-2650</td>\n",
       "      <td>-1411.0</td>\n",
       "      <td>-1131</td>\n",
       "      <td>SATURDAY</td>\n",
       "      <td>7</td>\n",
       "      <td>Business Entity Type 3</td>\n",
       "      <td>NaN</td>\n",
       "      <td>0.145475</td>\n",
       "      <td>0.651260</td>\n",
       "    </tr>\n",
       "    <tr>\n",
       "      <th>1</th>\n",
       "      <td>35895</td>\n",
       "      <td>141577</td>\n",
       "      <td>0</td>\n",
       "      <td>Cash loans</td>\n",
       "      <td>F</td>\n",
       "      <td>0</td>\n",
       "      <td>144000.0</td>\n",
       "      <td>485640.0</td>\n",
       "      <td>34537.5</td>\n",
       "      <td>450000.0</td>\n",
       "      <td>...</td>\n",
       "      <td>-14097</td>\n",
       "      <td>-7408</td>\n",
       "      <td>-7908.0</td>\n",
       "      <td>-4872</td>\n",
       "      <td>MONDAY</td>\n",
       "      <td>14</td>\n",
       "      <td>Kindergarten</td>\n",
       "      <td>NaN</td>\n",
       "      <td>0.682675</td>\n",
       "      <td>NaN</td>\n",
       "    </tr>\n",
       "    <tr>\n",
       "      <th>2</th>\n",
       "      <td>69154</td>\n",
       "      <td>180205</td>\n",
       "      <td>0</td>\n",
       "      <td>Cash loans</td>\n",
       "      <td>F</td>\n",
       "      <td>1</td>\n",
       "      <td>90000.0</td>\n",
       "      <td>247500.0</td>\n",
       "      <td>8887.5</td>\n",
       "      <td>247500.0</td>\n",
       "      <td>...</td>\n",
       "      <td>-18384</td>\n",
       "      <td>-2826</td>\n",
       "      <td>-8226.0</td>\n",
       "      <td>-1930</td>\n",
       "      <td>SATURDAY</td>\n",
       "      <td>12</td>\n",
       "      <td>Self-employed</td>\n",
       "      <td>0.814700</td>\n",
       "      <td>0.686312</td>\n",
       "      <td>0.758393</td>\n",
       "    </tr>\n",
       "    <tr>\n",
       "      <th>3</th>\n",
       "      <td>222185</td>\n",
       "      <td>357381</td>\n",
       "      <td>0</td>\n",
       "      <td>Cash loans</td>\n",
       "      <td>M</td>\n",
       "      <td>2</td>\n",
       "      <td>112500.0</td>\n",
       "      <td>506889.0</td>\n",
       "      <td>24781.5</td>\n",
       "      <td>418500.0</td>\n",
       "      <td>...</td>\n",
       "      <td>-12170</td>\n",
       "      <td>-926</td>\n",
       "      <td>-916.0</td>\n",
       "      <td>-4048</td>\n",
       "      <td>THURSDAY</td>\n",
       "      <td>13</td>\n",
       "      <td>Other</td>\n",
       "      <td>0.399219</td>\n",
       "      <td>0.266520</td>\n",
       "      <td>0.058826</td>\n",
       "    </tr>\n",
       "    <tr>\n",
       "      <th>4</th>\n",
       "      <td>147680</td>\n",
       "      <td>271229</td>\n",
       "      <td>0</td>\n",
       "      <td>Cash loans</td>\n",
       "      <td>M</td>\n",
       "      <td>0</td>\n",
       "      <td>216000.0</td>\n",
       "      <td>450000.0</td>\n",
       "      <td>21888.0</td>\n",
       "      <td>450000.0</td>\n",
       "      <td>...</td>\n",
       "      <td>-10790</td>\n",
       "      <td>-577</td>\n",
       "      <td>-4640.0</td>\n",
       "      <td>-2035</td>\n",
       "      <td>MONDAY</td>\n",
       "      <td>14</td>\n",
       "      <td>Business Entity Type 3</td>\n",
       "      <td>0.368452</td>\n",
       "      <td>0.610483</td>\n",
       "      <td>0.392774</td>\n",
       "    </tr>\n",
       "    <tr>\n",
       "      <th>...</th>\n",
       "      <td>...</td>\n",
       "      <td>...</td>\n",
       "      <td>...</td>\n",
       "      <td>...</td>\n",
       "      <td>...</td>\n",
       "      <td>...</td>\n",
       "      <td>...</td>\n",
       "      <td>...</td>\n",
       "      <td>...</td>\n",
       "      <td>...</td>\n",
       "      <td>...</td>\n",
       "      <td>...</td>\n",
       "      <td>...</td>\n",
       "      <td>...</td>\n",
       "      <td>...</td>\n",
       "      <td>...</td>\n",
       "      <td>...</td>\n",
       "      <td>...</td>\n",
       "      <td>...</td>\n",
       "      <td>...</td>\n",
       "      <td>...</td>\n",
       "    </tr>\n",
       "    <tr>\n",
       "      <th>14756</th>\n",
       "      <td>38250</td>\n",
       "      <td>144293</td>\n",
       "      <td>0</td>\n",
       "      <td>Cash loans</td>\n",
       "      <td>F</td>\n",
       "      <td>1</td>\n",
       "      <td>67500.0</td>\n",
       "      <td>112500.0</td>\n",
       "      <td>7317.0</td>\n",
       "      <td>112500.0</td>\n",
       "      <td>...</td>\n",
       "      <td>-12866</td>\n",
       "      <td>-3154</td>\n",
       "      <td>-1251.0</td>\n",
       "      <td>-4395</td>\n",
       "      <td>TUESDAY</td>\n",
       "      <td>10</td>\n",
       "      <td>Government</td>\n",
       "      <td>0.570305</td>\n",
       "      <td>0.399628</td>\n",
       "      <td>0.586740</td>\n",
       "    </tr>\n",
       "    <tr>\n",
       "      <th>14757</th>\n",
       "      <td>148422</td>\n",
       "      <td>272093</td>\n",
       "      <td>1</td>\n",
       "      <td>Cash loans</td>\n",
       "      <td>F</td>\n",
       "      <td>1</td>\n",
       "      <td>135000.0</td>\n",
       "      <td>313438.5</td>\n",
       "      <td>21073.5</td>\n",
       "      <td>283500.0</td>\n",
       "      <td>...</td>\n",
       "      <td>-11421</td>\n",
       "      <td>-3962</td>\n",
       "      <td>-5247.0</td>\n",
       "      <td>-3795</td>\n",
       "      <td>SATURDAY</td>\n",
       "      <td>7</td>\n",
       "      <td>Self-employed</td>\n",
       "      <td>NaN</td>\n",
       "      <td>0.610758</td>\n",
       "      <td>0.368969</td>\n",
       "    </tr>\n",
       "    <tr>\n",
       "      <th>14758</th>\n",
       "      <td>130286</td>\n",
       "      <td>251117</td>\n",
       "      <td>0</td>\n",
       "      <td>Cash loans</td>\n",
       "      <td>F</td>\n",
       "      <td>0</td>\n",
       "      <td>157500.0</td>\n",
       "      <td>1078200.0</td>\n",
       "      <td>31522.5</td>\n",
       "      <td>900000.0</td>\n",
       "      <td>...</td>\n",
       "      <td>-13313</td>\n",
       "      <td>-2258</td>\n",
       "      <td>-3899.0</td>\n",
       "      <td>-4515</td>\n",
       "      <td>MONDAY</td>\n",
       "      <td>12</td>\n",
       "      <td>Other</td>\n",
       "      <td>NaN</td>\n",
       "      <td>0.639824</td>\n",
       "      <td>0.782608</td>\n",
       "    </tr>\n",
       "    <tr>\n",
       "      <th>14759</th>\n",
       "      <td>202131</td>\n",
       "      <td>334313</td>\n",
       "      <td>0</td>\n",
       "      <td>Cash loans</td>\n",
       "      <td>F</td>\n",
       "      <td>0</td>\n",
       "      <td>216000.0</td>\n",
       "      <td>272520.0</td>\n",
       "      <td>21658.5</td>\n",
       "      <td>225000.0</td>\n",
       "      <td>...</td>\n",
       "      <td>-24085</td>\n",
       "      <td>365243</td>\n",
       "      <td>-9354.0</td>\n",
       "      <td>-4740</td>\n",
       "      <td>THURSDAY</td>\n",
       "      <td>15</td>\n",
       "      <td>NA1</td>\n",
       "      <td>NaN</td>\n",
       "      <td>0.642139</td>\n",
       "      <td>0.584990</td>\n",
       "    </tr>\n",
       "    <tr>\n",
       "      <th>14760</th>\n",
       "      <td>101569</td>\n",
       "      <td>217927</td>\n",
       "      <td>0</td>\n",
       "      <td>Cash loans</td>\n",
       "      <td>F</td>\n",
       "      <td>3</td>\n",
       "      <td>112500.0</td>\n",
       "      <td>260640.0</td>\n",
       "      <td>20299.5</td>\n",
       "      <td>225000.0</td>\n",
       "      <td>...</td>\n",
       "      <td>-12782</td>\n",
       "      <td>-387</td>\n",
       "      <td>-1261.0</td>\n",
       "      <td>-4823</td>\n",
       "      <td>THURSDAY</td>\n",
       "      <td>9</td>\n",
       "      <td>Self-employed</td>\n",
       "      <td>NaN</td>\n",
       "      <td>0.381569</td>\n",
       "      <td>0.520898</td>\n",
       "    </tr>\n",
       "  </tbody>\n",
       "</table>\n",
       "<p>14761 rows × 24 columns</p>\n",
       "</div>"
      ],
      "text/plain": [
       "       Unnamed: 0   LN_ID  TARGET CONTRACT_TYPE GENDER  NUM_CHILDREN  \\\n",
       "0          102590  219092       0    Cash loans      M             3   \n",
       "1           35895  141577       0    Cash loans      F             0   \n",
       "2           69154  180205       0    Cash loans      F             1   \n",
       "3          222185  357381       0    Cash loans      M             2   \n",
       "4          147680  271229       0    Cash loans      M             0   \n",
       "...           ...     ...     ...           ...    ...           ...   \n",
       "14756       38250  144293       0    Cash loans      F             1   \n",
       "14757      148422  272093       1    Cash loans      F             1   \n",
       "14758      130286  251117       0    Cash loans      F             0   \n",
       "14759      202131  334313       0    Cash loans      F             0   \n",
       "14760      101569  217927       0    Cash loans      F             3   \n",
       "\n",
       "         INCOME  APPROVED_CREDIT  ANNUITY     PRICE  ... DAYS_AGE DAYS_WORK  \\\n",
       "0      135000.0         871029.0  44604.0  765000.0  ...   -17598     -2650   \n",
       "1      144000.0         485640.0  34537.5  450000.0  ...   -14097     -7408   \n",
       "2       90000.0         247500.0   8887.5  247500.0  ...   -18384     -2826   \n",
       "3      112500.0         506889.0  24781.5  418500.0  ...   -12170      -926   \n",
       "4      216000.0         450000.0  21888.0  450000.0  ...   -10790      -577   \n",
       "...         ...              ...      ...       ...  ...      ...       ...   \n",
       "14756   67500.0         112500.0   7317.0  112500.0  ...   -12866     -3154   \n",
       "14757  135000.0         313438.5  21073.5  283500.0  ...   -11421     -3962   \n",
       "14758  157500.0        1078200.0  31522.5  900000.0  ...   -13313     -2258   \n",
       "14759  216000.0         272520.0  21658.5  225000.0  ...   -24085    365243   \n",
       "14760  112500.0         260640.0  20299.5  225000.0  ...   -12782      -387   \n",
       "\n",
       "      DAYS_REGISTRATION DAYS_ID_CHANGE  WEEKDAYS_APPLY  HOUR_APPLY  \\\n",
       "0               -1411.0          -1131        SATURDAY           7   \n",
       "1               -7908.0          -4872          MONDAY          14   \n",
       "2               -8226.0          -1930        SATURDAY          12   \n",
       "3                -916.0          -4048        THURSDAY          13   \n",
       "4               -4640.0          -2035          MONDAY          14   \n",
       "...                 ...            ...             ...         ...   \n",
       "14756           -1251.0          -4395         TUESDAY          10   \n",
       "14757           -5247.0          -3795        SATURDAY           7   \n",
       "14758           -3899.0          -4515          MONDAY          12   \n",
       "14759           -9354.0          -4740        THURSDAY          15   \n",
       "14760           -1261.0          -4823        THURSDAY           9   \n",
       "\n",
       "            ORGANIZATION_TYPE  EXT_SCORE_1 EXT_SCORE_2  EXT_SCORE_3  \n",
       "0      Business Entity Type 3          NaN    0.145475     0.651260  \n",
       "1                Kindergarten          NaN    0.682675          NaN  \n",
       "2               Self-employed     0.814700    0.686312     0.758393  \n",
       "3                       Other     0.399219    0.266520     0.058826  \n",
       "4      Business Entity Type 3     0.368452    0.610483     0.392774  \n",
       "...                       ...          ...         ...          ...  \n",
       "14756              Government     0.570305    0.399628     0.586740  \n",
       "14757           Self-employed          NaN    0.610758     0.368969  \n",
       "14758                   Other          NaN    0.639824     0.782608  \n",
       "14759                     NA1          NaN    0.642139     0.584990  \n",
       "14760           Self-employed          NaN    0.381569     0.520898  \n",
       "\n",
       "[14761 rows x 24 columns]"
      ]
     },
     "execution_count": 3,
     "metadata": {},
     "output_type": "execute_result"
    }
   ],
   "source": [
    "data"
   ]
  },
  {
   "cell_type": "code",
   "execution_count": 4,
   "id": "6d9ec379",
   "metadata": {},
   "outputs": [
    {
     "name": "stdout",
     "output_type": "stream",
     "text": [
      "<class 'pandas.core.frame.DataFrame'>\n",
      "RangeIndex: 14761 entries, 0 to 14760\n",
      "Data columns (total 24 columns):\n",
      " #   Column             Non-Null Count  Dtype  \n",
      "---  ------             --------------  -----  \n",
      " 0   Unnamed: 0         14761 non-null  int64  \n",
      " 1   LN_ID              14761 non-null  int64  \n",
      " 2   TARGET             14761 non-null  int64  \n",
      " 3   CONTRACT_TYPE      14761 non-null  object \n",
      " 4   GENDER             14761 non-null  object \n",
      " 5   NUM_CHILDREN       14761 non-null  int64  \n",
      " 6   INCOME             14761 non-null  float64\n",
      " 7   APPROVED_CREDIT    14761 non-null  float64\n",
      " 8   ANNUITY            14761 non-null  float64\n",
      " 9   PRICE              14741 non-null  float64\n",
      " 10  INCOME_TYPE        14761 non-null  object \n",
      " 11  EDUCATION          14761 non-null  object \n",
      " 12  FAMILY_STATUS      14761 non-null  object \n",
      " 13  HOUSING_TYPE       14761 non-null  object \n",
      " 14  DAYS_AGE           14761 non-null  int64  \n",
      " 15  DAYS_WORK          14761 non-null  int64  \n",
      " 16  DAYS_REGISTRATION  14761 non-null  float64\n",
      " 17  DAYS_ID_CHANGE     14761 non-null  int64  \n",
      " 18  WEEKDAYS_APPLY     14761 non-null  object \n",
      " 19  HOUR_APPLY         14761 non-null  int64  \n",
      " 20  ORGANIZATION_TYPE  14761 non-null  object \n",
      " 21  EXT_SCORE_1        6449 non-null   float64\n",
      " 22  EXT_SCORE_2        14742 non-null  float64\n",
      " 23  EXT_SCORE_3        11842 non-null  float64\n",
      "dtypes: float64(8), int64(8), object(8)\n",
      "memory usage: 2.3+ MB\n"
     ]
    }
   ],
   "source": [
    "data.info()"
   ]
  },
  {
   "cell_type": "code",
   "execution_count": null,
   "id": "dd5e90b1",
   "metadata": {},
   "outputs": [],
   "source": []
  },
  {
   "cell_type": "code",
   "execution_count": null,
   "id": "525b24fc",
   "metadata": {},
   "outputs": [],
   "source": []
  },
  {
   "cell_type": "code",
   "execution_count": null,
   "id": "a7620f4f",
   "metadata": {},
   "outputs": [],
   "source": []
  },
  {
   "cell_type": "code",
   "execution_count": 5,
   "id": "e0682873",
   "metadata": {},
   "outputs": [],
   "source": [
    "#menghapus kolom-kolom yang tidak dibutuhkan\n",
    "data = data.drop(['Unnamed: 0','LN_ID','DAYS_ID_CHANGE','WEEKDAYS_APPLY','ORGANIZATION_TYPE','DAYS_AGE','DAYS_WORK','DAYS_REGISTRATION','WEEKDAYS_APPLY','HOUR_APPLY'], axis = 1)"
   ]
  },
  {
   "cell_type": "code",
   "execution_count": 6,
   "id": "9cd44f77",
   "metadata": {},
   "outputs": [
    {
     "data": {
      "text/html": [
       "<div>\n",
       "<style scoped>\n",
       "    .dataframe tbody tr th:only-of-type {\n",
       "        vertical-align: middle;\n",
       "    }\n",
       "\n",
       "    .dataframe tbody tr th {\n",
       "        vertical-align: top;\n",
       "    }\n",
       "\n",
       "    .dataframe thead th {\n",
       "        text-align: right;\n",
       "    }\n",
       "</style>\n",
       "<table border=\"1\" class=\"dataframe\">\n",
       "  <thead>\n",
       "    <tr style=\"text-align: right;\">\n",
       "      <th></th>\n",
       "      <th>TARGET</th>\n",
       "      <th>CONTRACT_TYPE</th>\n",
       "      <th>GENDER</th>\n",
       "      <th>NUM_CHILDREN</th>\n",
       "      <th>INCOME</th>\n",
       "      <th>APPROVED_CREDIT</th>\n",
       "      <th>ANNUITY</th>\n",
       "      <th>PRICE</th>\n",
       "      <th>INCOME_TYPE</th>\n",
       "      <th>EDUCATION</th>\n",
       "      <th>FAMILY_STATUS</th>\n",
       "      <th>HOUSING_TYPE</th>\n",
       "      <th>EXT_SCORE_1</th>\n",
       "      <th>EXT_SCORE_2</th>\n",
       "      <th>EXT_SCORE_3</th>\n",
       "    </tr>\n",
       "  </thead>\n",
       "  <tbody>\n",
       "    <tr>\n",
       "      <th>0</th>\n",
       "      <td>0</td>\n",
       "      <td>Cash loans</td>\n",
       "      <td>M</td>\n",
       "      <td>3</td>\n",
       "      <td>135000.0</td>\n",
       "      <td>871029.0</td>\n",
       "      <td>44604.0</td>\n",
       "      <td>765000.0</td>\n",
       "      <td>Working</td>\n",
       "      <td>Secondary / secondary special</td>\n",
       "      <td>Married</td>\n",
       "      <td>House / apartment</td>\n",
       "      <td>NaN</td>\n",
       "      <td>0.145475</td>\n",
       "      <td>0.651260</td>\n",
       "    </tr>\n",
       "    <tr>\n",
       "      <th>1</th>\n",
       "      <td>0</td>\n",
       "      <td>Cash loans</td>\n",
       "      <td>F</td>\n",
       "      <td>0</td>\n",
       "      <td>144000.0</td>\n",
       "      <td>485640.0</td>\n",
       "      <td>34537.5</td>\n",
       "      <td>450000.0</td>\n",
       "      <td>Working</td>\n",
       "      <td>Higher education</td>\n",
       "      <td>Married</td>\n",
       "      <td>Office apartment</td>\n",
       "      <td>NaN</td>\n",
       "      <td>0.682675</td>\n",
       "      <td>NaN</td>\n",
       "    </tr>\n",
       "    <tr>\n",
       "      <th>2</th>\n",
       "      <td>0</td>\n",
       "      <td>Cash loans</td>\n",
       "      <td>F</td>\n",
       "      <td>1</td>\n",
       "      <td>90000.0</td>\n",
       "      <td>247500.0</td>\n",
       "      <td>8887.5</td>\n",
       "      <td>247500.0</td>\n",
       "      <td>Working</td>\n",
       "      <td>Secondary / secondary special</td>\n",
       "      <td>Married</td>\n",
       "      <td>House / apartment</td>\n",
       "      <td>0.814700</td>\n",
       "      <td>0.686312</td>\n",
       "      <td>0.758393</td>\n",
       "    </tr>\n",
       "    <tr>\n",
       "      <th>3</th>\n",
       "      <td>0</td>\n",
       "      <td>Cash loans</td>\n",
       "      <td>M</td>\n",
       "      <td>2</td>\n",
       "      <td>112500.0</td>\n",
       "      <td>506889.0</td>\n",
       "      <td>24781.5</td>\n",
       "      <td>418500.0</td>\n",
       "      <td>Working</td>\n",
       "      <td>Secondary / secondary special</td>\n",
       "      <td>Married</td>\n",
       "      <td>House / apartment</td>\n",
       "      <td>0.399219</td>\n",
       "      <td>0.266520</td>\n",
       "      <td>0.058826</td>\n",
       "    </tr>\n",
       "    <tr>\n",
       "      <th>4</th>\n",
       "      <td>0</td>\n",
       "      <td>Cash loans</td>\n",
       "      <td>M</td>\n",
       "      <td>0</td>\n",
       "      <td>216000.0</td>\n",
       "      <td>450000.0</td>\n",
       "      <td>21888.0</td>\n",
       "      <td>450000.0</td>\n",
       "      <td>Working</td>\n",
       "      <td>Incomplete higher</td>\n",
       "      <td>Married</td>\n",
       "      <td>House / apartment</td>\n",
       "      <td>0.368452</td>\n",
       "      <td>0.610483</td>\n",
       "      <td>0.392774</td>\n",
       "    </tr>\n",
       "    <tr>\n",
       "      <th>...</th>\n",
       "      <td>...</td>\n",
       "      <td>...</td>\n",
       "      <td>...</td>\n",
       "      <td>...</td>\n",
       "      <td>...</td>\n",
       "      <td>...</td>\n",
       "      <td>...</td>\n",
       "      <td>...</td>\n",
       "      <td>...</td>\n",
       "      <td>...</td>\n",
       "      <td>...</td>\n",
       "      <td>...</td>\n",
       "      <td>...</td>\n",
       "      <td>...</td>\n",
       "      <td>...</td>\n",
       "    </tr>\n",
       "    <tr>\n",
       "      <th>14756</th>\n",
       "      <td>0</td>\n",
       "      <td>Cash loans</td>\n",
       "      <td>F</td>\n",
       "      <td>1</td>\n",
       "      <td>67500.0</td>\n",
       "      <td>112500.0</td>\n",
       "      <td>7317.0</td>\n",
       "      <td>112500.0</td>\n",
       "      <td>Working</td>\n",
       "      <td>Secondary / secondary special</td>\n",
       "      <td>Married</td>\n",
       "      <td>House / apartment</td>\n",
       "      <td>0.570305</td>\n",
       "      <td>0.399628</td>\n",
       "      <td>0.586740</td>\n",
       "    </tr>\n",
       "    <tr>\n",
       "      <th>14757</th>\n",
       "      <td>1</td>\n",
       "      <td>Cash loans</td>\n",
       "      <td>F</td>\n",
       "      <td>1</td>\n",
       "      <td>135000.0</td>\n",
       "      <td>313438.5</td>\n",
       "      <td>21073.5</td>\n",
       "      <td>283500.0</td>\n",
       "      <td>Working</td>\n",
       "      <td>Secondary / secondary special</td>\n",
       "      <td>Civil marriage</td>\n",
       "      <td>With parents</td>\n",
       "      <td>NaN</td>\n",
       "      <td>0.610758</td>\n",
       "      <td>0.368969</td>\n",
       "    </tr>\n",
       "    <tr>\n",
       "      <th>14758</th>\n",
       "      <td>0</td>\n",
       "      <td>Cash loans</td>\n",
       "      <td>F</td>\n",
       "      <td>0</td>\n",
       "      <td>157500.0</td>\n",
       "      <td>1078200.0</td>\n",
       "      <td>31522.5</td>\n",
       "      <td>900000.0</td>\n",
       "      <td>State servant</td>\n",
       "      <td>Higher education</td>\n",
       "      <td>Separated</td>\n",
       "      <td>House / apartment</td>\n",
       "      <td>NaN</td>\n",
       "      <td>0.639824</td>\n",
       "      <td>0.782608</td>\n",
       "    </tr>\n",
       "    <tr>\n",
       "      <th>14759</th>\n",
       "      <td>0</td>\n",
       "      <td>Cash loans</td>\n",
       "      <td>F</td>\n",
       "      <td>0</td>\n",
       "      <td>216000.0</td>\n",
       "      <td>272520.0</td>\n",
       "      <td>21658.5</td>\n",
       "      <td>225000.0</td>\n",
       "      <td>Pensioner</td>\n",
       "      <td>Secondary / secondary special</td>\n",
       "      <td>Widow</td>\n",
       "      <td>House / apartment</td>\n",
       "      <td>NaN</td>\n",
       "      <td>0.642139</td>\n",
       "      <td>0.584990</td>\n",
       "    </tr>\n",
       "    <tr>\n",
       "      <th>14760</th>\n",
       "      <td>0</td>\n",
       "      <td>Cash loans</td>\n",
       "      <td>F</td>\n",
       "      <td>3</td>\n",
       "      <td>112500.0</td>\n",
       "      <td>260640.0</td>\n",
       "      <td>20299.5</td>\n",
       "      <td>225000.0</td>\n",
       "      <td>Working</td>\n",
       "      <td>Secondary / secondary special</td>\n",
       "      <td>Separated</td>\n",
       "      <td>House / apartment</td>\n",
       "      <td>NaN</td>\n",
       "      <td>0.381569</td>\n",
       "      <td>0.520898</td>\n",
       "    </tr>\n",
       "  </tbody>\n",
       "</table>\n",
       "<p>14761 rows × 15 columns</p>\n",
       "</div>"
      ],
      "text/plain": [
       "       TARGET CONTRACT_TYPE GENDER  NUM_CHILDREN    INCOME  APPROVED_CREDIT  \\\n",
       "0           0    Cash loans      M             3  135000.0         871029.0   \n",
       "1           0    Cash loans      F             0  144000.0         485640.0   \n",
       "2           0    Cash loans      F             1   90000.0         247500.0   \n",
       "3           0    Cash loans      M             2  112500.0         506889.0   \n",
       "4           0    Cash loans      M             0  216000.0         450000.0   \n",
       "...       ...           ...    ...           ...       ...              ...   \n",
       "14756       0    Cash loans      F             1   67500.0         112500.0   \n",
       "14757       1    Cash loans      F             1  135000.0         313438.5   \n",
       "14758       0    Cash loans      F             0  157500.0        1078200.0   \n",
       "14759       0    Cash loans      F             0  216000.0         272520.0   \n",
       "14760       0    Cash loans      F             3  112500.0         260640.0   \n",
       "\n",
       "       ANNUITY     PRICE    INCOME_TYPE                      EDUCATION  \\\n",
       "0      44604.0  765000.0        Working  Secondary / secondary special   \n",
       "1      34537.5  450000.0        Working               Higher education   \n",
       "2       8887.5  247500.0        Working  Secondary / secondary special   \n",
       "3      24781.5  418500.0        Working  Secondary / secondary special   \n",
       "4      21888.0  450000.0        Working              Incomplete higher   \n",
       "...        ...       ...            ...                            ...   \n",
       "14756   7317.0  112500.0        Working  Secondary / secondary special   \n",
       "14757  21073.5  283500.0        Working  Secondary / secondary special   \n",
       "14758  31522.5  900000.0  State servant               Higher education   \n",
       "14759  21658.5  225000.0      Pensioner  Secondary / secondary special   \n",
       "14760  20299.5  225000.0        Working  Secondary / secondary special   \n",
       "\n",
       "        FAMILY_STATUS       HOUSING_TYPE  EXT_SCORE_1  EXT_SCORE_2  \\\n",
       "0             Married  House / apartment          NaN     0.145475   \n",
       "1             Married   Office apartment          NaN     0.682675   \n",
       "2             Married  House / apartment     0.814700     0.686312   \n",
       "3             Married  House / apartment     0.399219     0.266520   \n",
       "4             Married  House / apartment     0.368452     0.610483   \n",
       "...               ...                ...          ...          ...   \n",
       "14756         Married  House / apartment     0.570305     0.399628   \n",
       "14757  Civil marriage       With parents          NaN     0.610758   \n",
       "14758       Separated  House / apartment          NaN     0.639824   \n",
       "14759           Widow  House / apartment          NaN     0.642139   \n",
       "14760       Separated  House / apartment          NaN     0.381569   \n",
       "\n",
       "       EXT_SCORE_3  \n",
       "0         0.651260  \n",
       "1              NaN  \n",
       "2         0.758393  \n",
       "3         0.058826  \n",
       "4         0.392774  \n",
       "...            ...  \n",
       "14756     0.586740  \n",
       "14757     0.368969  \n",
       "14758     0.782608  \n",
       "14759     0.584990  \n",
       "14760     0.520898  \n",
       "\n",
       "[14761 rows x 15 columns]"
      ]
     },
     "execution_count": 6,
     "metadata": {},
     "output_type": "execute_result"
    }
   ],
   "source": [
    "data"
   ]
  },
  {
   "cell_type": "code",
   "execution_count": 7,
   "id": "2651549f",
   "metadata": {},
   "outputs": [
    {
     "data": {
      "text/html": [
       "<div>\n",
       "<style scoped>\n",
       "    .dataframe tbody tr th:only-of-type {\n",
       "        vertical-align: middle;\n",
       "    }\n",
       "\n",
       "    .dataframe tbody tr th {\n",
       "        vertical-align: top;\n",
       "    }\n",
       "\n",
       "    .dataframe thead th {\n",
       "        text-align: right;\n",
       "    }\n",
       "</style>\n",
       "<table border=\"1\" class=\"dataframe\">\n",
       "  <thead>\n",
       "    <tr style=\"text-align: right;\">\n",
       "      <th></th>\n",
       "      <th>count</th>\n",
       "      <th>mean</th>\n",
       "      <th>std</th>\n",
       "      <th>min</th>\n",
       "      <th>25%</th>\n",
       "      <th>50%</th>\n",
       "      <th>75%</th>\n",
       "      <th>max</th>\n",
       "    </tr>\n",
       "  </thead>\n",
       "  <tbody>\n",
       "    <tr>\n",
       "      <th>TARGET</th>\n",
       "      <td>14761.0</td>\n",
       "      <td>0.081499</td>\n",
       "      <td>0.273608</td>\n",
       "      <td>0.000000</td>\n",
       "      <td>0.000000</td>\n",
       "      <td>0.000000</td>\n",
       "      <td>0.000000</td>\n",
       "      <td>1.000000e+00</td>\n",
       "    </tr>\n",
       "    <tr>\n",
       "      <th>NUM_CHILDREN</th>\n",
       "      <td>14761.0</td>\n",
       "      <td>0.411828</td>\n",
       "      <td>0.709092</td>\n",
       "      <td>0.000000</td>\n",
       "      <td>0.000000</td>\n",
       "      <td>0.000000</td>\n",
       "      <td>1.000000</td>\n",
       "      <td>5.000000e+00</td>\n",
       "    </tr>\n",
       "    <tr>\n",
       "      <th>INCOME</th>\n",
       "      <td>14761.0</td>\n",
       "      <td>167496.479582</td>\n",
       "      <td>95387.655000</td>\n",
       "      <td>26550.000000</td>\n",
       "      <td>112500.000000</td>\n",
       "      <td>144000.000000</td>\n",
       "      <td>202500.000000</td>\n",
       "      <td>2.930026e+06</td>\n",
       "    </tr>\n",
       "    <tr>\n",
       "      <th>APPROVED_CREDIT</th>\n",
       "      <td>14761.0</td>\n",
       "      <td>596131.795204</td>\n",
       "      <td>399686.133892</td>\n",
       "      <td>45000.000000</td>\n",
       "      <td>270000.000000</td>\n",
       "      <td>509400.000000</td>\n",
       "      <td>808650.000000</td>\n",
       "      <td>4.050000e+06</td>\n",
       "    </tr>\n",
       "    <tr>\n",
       "      <th>ANNUITY</th>\n",
       "      <td>14761.0</td>\n",
       "      <td>27127.497764</td>\n",
       "      <td>14473.650999</td>\n",
       "      <td>2187.000000</td>\n",
       "      <td>16654.500000</td>\n",
       "      <td>24822.000000</td>\n",
       "      <td>34573.500000</td>\n",
       "      <td>1.778265e+05</td>\n",
       "    </tr>\n",
       "    <tr>\n",
       "      <th>PRICE</th>\n",
       "      <td>14741.0</td>\n",
       "      <td>536192.910250</td>\n",
       "      <td>366519.351579</td>\n",
       "      <td>45000.000000</td>\n",
       "      <td>238500.000000</td>\n",
       "      <td>450000.000000</td>\n",
       "      <td>679500.000000</td>\n",
       "      <td>4.050000e+06</td>\n",
       "    </tr>\n",
       "    <tr>\n",
       "      <th>EXT_SCORE_1</th>\n",
       "      <td>6449.0</td>\n",
       "      <td>0.507092</td>\n",
       "      <td>0.211769</td>\n",
       "      <td>0.017095</td>\n",
       "      <td>0.339551</td>\n",
       "      <td>0.511271</td>\n",
       "      <td>0.677166</td>\n",
       "      <td>9.444195e-01</td>\n",
       "    </tr>\n",
       "    <tr>\n",
       "      <th>EXT_SCORE_2</th>\n",
       "      <td>14742.0</td>\n",
       "      <td>0.515809</td>\n",
       "      <td>0.189662</td>\n",
       "      <td>0.000013</td>\n",
       "      <td>0.395380</td>\n",
       "      <td>0.566284</td>\n",
       "      <td>0.663389</td>\n",
       "      <td>8.549997e-01</td>\n",
       "    </tr>\n",
       "    <tr>\n",
       "      <th>EXT_SCORE_3</th>\n",
       "      <td>11842.0</td>\n",
       "      <td>0.511901</td>\n",
       "      <td>0.195482</td>\n",
       "      <td>0.000527</td>\n",
       "      <td>0.370650</td>\n",
       "      <td>0.537070</td>\n",
       "      <td>0.670652</td>\n",
       "      <td>8.825303e-01</td>\n",
       "    </tr>\n",
       "  </tbody>\n",
       "</table>\n",
       "</div>"
      ],
      "text/plain": [
       "                   count           mean            std           min  \\\n",
       "TARGET           14761.0       0.081499       0.273608      0.000000   \n",
       "NUM_CHILDREN     14761.0       0.411828       0.709092      0.000000   \n",
       "INCOME           14761.0  167496.479582   95387.655000  26550.000000   \n",
       "APPROVED_CREDIT  14761.0  596131.795204  399686.133892  45000.000000   \n",
       "ANNUITY          14761.0   27127.497764   14473.650999   2187.000000   \n",
       "PRICE            14741.0  536192.910250  366519.351579  45000.000000   \n",
       "EXT_SCORE_1       6449.0       0.507092       0.211769      0.017095   \n",
       "EXT_SCORE_2      14742.0       0.515809       0.189662      0.000013   \n",
       "EXT_SCORE_3      11842.0       0.511901       0.195482      0.000527   \n",
       "\n",
       "                           25%            50%            75%           max  \n",
       "TARGET                0.000000       0.000000       0.000000  1.000000e+00  \n",
       "NUM_CHILDREN          0.000000       0.000000       1.000000  5.000000e+00  \n",
       "INCOME           112500.000000  144000.000000  202500.000000  2.930026e+06  \n",
       "APPROVED_CREDIT  270000.000000  509400.000000  808650.000000  4.050000e+06  \n",
       "ANNUITY           16654.500000   24822.000000   34573.500000  1.778265e+05  \n",
       "PRICE            238500.000000  450000.000000  679500.000000  4.050000e+06  \n",
       "EXT_SCORE_1           0.339551       0.511271       0.677166  9.444195e-01  \n",
       "EXT_SCORE_2           0.395380       0.566284       0.663389  8.549997e-01  \n",
       "EXT_SCORE_3           0.370650       0.537070       0.670652  8.825303e-01  "
      ]
     },
     "execution_count": 7,
     "metadata": {},
     "output_type": "execute_result"
    }
   ],
   "source": [
    "data.describe().T"
   ]
  },
  {
   "cell_type": "code",
   "execution_count": 8,
   "id": "b9a306dd",
   "metadata": {},
   "outputs": [
    {
     "data": {
      "text/html": [
       "<div>\n",
       "<style scoped>\n",
       "    .dataframe tbody tr th:only-of-type {\n",
       "        vertical-align: middle;\n",
       "    }\n",
       "\n",
       "    .dataframe tbody tr th {\n",
       "        vertical-align: top;\n",
       "    }\n",
       "\n",
       "    .dataframe thead th {\n",
       "        text-align: right;\n",
       "    }\n",
       "</style>\n",
       "<table border=\"1\" class=\"dataframe\">\n",
       "  <thead>\n",
       "    <tr style=\"text-align: right;\">\n",
       "      <th></th>\n",
       "      <th>CONTRACT_TYPE</th>\n",
       "      <th>GENDER</th>\n",
       "      <th>INCOME_TYPE</th>\n",
       "      <th>EDUCATION</th>\n",
       "      <th>FAMILY_STATUS</th>\n",
       "      <th>HOUSING_TYPE</th>\n",
       "    </tr>\n",
       "  </thead>\n",
       "  <tbody>\n",
       "    <tr>\n",
       "      <th>count</th>\n",
       "      <td>14761</td>\n",
       "      <td>14761</td>\n",
       "      <td>14761</td>\n",
       "      <td>14761</td>\n",
       "      <td>14761</td>\n",
       "      <td>14761</td>\n",
       "    </tr>\n",
       "    <tr>\n",
       "      <th>unique</th>\n",
       "      <td>2</td>\n",
       "      <td>2</td>\n",
       "      <td>5</td>\n",
       "      <td>5</td>\n",
       "      <td>5</td>\n",
       "      <td>6</td>\n",
       "    </tr>\n",
       "    <tr>\n",
       "      <th>top</th>\n",
       "      <td>Cash loans</td>\n",
       "      <td>F</td>\n",
       "      <td>Working</td>\n",
       "      <td>Secondary / secondary special</td>\n",
       "      <td>Married</td>\n",
       "      <td>House / apartment</td>\n",
       "    </tr>\n",
       "    <tr>\n",
       "      <th>freq</th>\n",
       "      <td>13281</td>\n",
       "      <td>9685</td>\n",
       "      <td>7571</td>\n",
       "      <td>10431</td>\n",
       "      <td>9539</td>\n",
       "      <td>13135</td>\n",
       "    </tr>\n",
       "  </tbody>\n",
       "</table>\n",
       "</div>"
      ],
      "text/plain": [
       "       CONTRACT_TYPE GENDER INCOME_TYPE                      EDUCATION  \\\n",
       "count          14761  14761       14761                          14761   \n",
       "unique             2      2           5                              5   \n",
       "top       Cash loans      F     Working  Secondary / secondary special   \n",
       "freq           13281   9685        7571                          10431   \n",
       "\n",
       "       FAMILY_STATUS       HOUSING_TYPE  \n",
       "count          14761              14761  \n",
       "unique             5                  6  \n",
       "top          Married  House / apartment  \n",
       "freq            9539              13135  "
      ]
     },
     "execution_count": 8,
     "metadata": {},
     "output_type": "execute_result"
    }
   ],
   "source": [
    "data.describe(include='object')"
   ]
  },
  {
   "cell_type": "code",
   "execution_count": null,
   "id": "19fdfc72",
   "metadata": {},
   "outputs": [],
   "source": []
  },
  {
   "cell_type": "code",
   "execution_count": null,
   "id": "1ee74161",
   "metadata": {},
   "outputs": [],
   "source": []
  },
  {
   "cell_type": "code",
   "execution_count": null,
   "id": "3c43e88c",
   "metadata": {},
   "outputs": [],
   "source": []
  },
  {
   "cell_type": "code",
   "execution_count": 9,
   "id": "5a8eb1ec",
   "metadata": {},
   "outputs": [
    {
     "data": {
      "text/plain": [
       "TARGET                0\n",
       "CONTRACT_TYPE         0\n",
       "GENDER                0\n",
       "NUM_CHILDREN          0\n",
       "INCOME                0\n",
       "APPROVED_CREDIT       0\n",
       "ANNUITY               0\n",
       "PRICE                20\n",
       "INCOME_TYPE           0\n",
       "EDUCATION             0\n",
       "FAMILY_STATUS         0\n",
       "HOUSING_TYPE          0\n",
       "EXT_SCORE_1        8312\n",
       "EXT_SCORE_2          19\n",
       "EXT_SCORE_3        2919\n",
       "dtype: int64"
      ]
     },
     "execution_count": 9,
     "metadata": {},
     "output_type": "execute_result"
    }
   ],
   "source": [
    "#checking missing value\n",
    "data.isnull().sum()"
   ]
  },
  {
   "cell_type": "code",
   "execution_count": 10,
   "id": "b9bcafa0",
   "metadata": {},
   "outputs": [],
   "source": [
    "#creating seperate lists for categorical and numerical variables\n",
    "numerical = ['TARGET','NUM_CHILDREN','INCOME','APPROVED_CREDIT','ANNUITY','PRICE','EXT_SCORE_1','EXT_SCORE_2','EXT_SCORE_3']\n",
    "categorical = ['CONTRACT_TYPE','GENDER','INCOME_TYPE','EDUCATION','FAMILY_STATUS','HOUSING_TYPE']"
   ]
  },
  {
   "cell_type": "code",
   "execution_count": 11,
   "id": "ce9cd9f0",
   "metadata": {},
   "outputs": [
    {
     "data": {
      "text/plain": [
       "array([[<AxesSubplot:title={'center':'TARGET'}>,\n",
       "        <AxesSubplot:title={'center':'NUM_CHILDREN'}>,\n",
       "        <AxesSubplot:title={'center':'INCOME'}>],\n",
       "       [<AxesSubplot:title={'center':'APPROVED_CREDIT'}>,\n",
       "        <AxesSubplot:title={'center':'ANNUITY'}>,\n",
       "        <AxesSubplot:title={'center':'PRICE'}>],\n",
       "       [<AxesSubplot:title={'center':'EXT_SCORE_1'}>,\n",
       "        <AxesSubplot:title={'center':'EXT_SCORE_2'}>,\n",
       "        <AxesSubplot:title={'center':'EXT_SCORE_3'}>]], dtype=object)"
      ]
     },
     "execution_count": 11,
     "metadata": {},
     "output_type": "execute_result"
    },
    {
     "data": {
      "image/png": "[encoded data removed]",
      "text/plain": [
       "<Figure size 1080x1080 with 9 Axes>"
      ]
     },
     "metadata": {
      "needs_background": "light"
     },
     "output_type": "display_data"
    }
   ],
   "source": [
    "data[numerical].hist(figsize=(15,15))"
   ]
  },
  {
   "cell_type": "code",
   "execution_count": 12,
   "id": "b194fd70",
   "metadata": {},
   "outputs": [],
   "source": [
    "def descriptive_summary_n(column):\n",
    "    fig, axs = plt.subplots(1,2, figsize=(19,6))\n",
    "    axs[0].hist(data[column]) #creating histogram plot\n",
    "    axs[0].axvline(data[column].mean(), color='red', label=f\"Mean: {round(data[column].mean(),2)}\") #vertical line for mean of the distribution\n",
    "    axs[0].axvline(data[column].median(), color='green', label=f\"Median: {round(data[column].median(),2)}\") #vertical line for median of the distribution\n",
    "    axs[0].axvline(x=data[column].describe()[4],color='r', linestyle='--', label=f\"25th percentile: {data[column].describe()[4]}\") #vertical line for 25th percentile of the distribution\n",
    "    axs[0].axvline(x=data[column].describe()[6],color='r', linestyle='--', label=f\"75th percentile: {data[column].describe()[6]}\") #vertical line for 75th percentile of the distribution\n",
    "    axs[0].legend()\n",
    "    sns.boxplot(data=data, x=column, ax=axs[1]) #creating boxplot\n",
    "    axs[1].axvline(data[column].mean(), color='red') #vertical line for the mean of the distribution\n",
    "    fig.suptitle(f\"Histogram and Boxplot of {column}\")\n",
    "    plt.show()\n",
    "    print(f\"{data[column].describe().round(3)}\\n\")\n",
    "    print(f\"Range: {data[column].max() - data[column].min()}\")\n",
    "    print(f\"Interquartile Range: {data[column].describe()[6] - data[column].describe()[4]}\\n\")\n",
    "    print(f\"Skewness: {skew(data[data[column].isna()==False][column], bias=True)}\")\n",
    "    print(f\"Kurtosis: {kurtosis(data[data[column].isna()==False][column], bias=True)}\")"
   ]
  },
  {
   "cell_type": "code",
   "execution_count": 13,
   "id": "a1e5bb06",
   "metadata": {},
   "outputs": [
    {
     "data": {
      "image/png": "[encoded data removed]",
      "text/plain": [
       "<Figure size 1368x432 with 2 Axes>"
      ]
     },
     "metadata": {
      "needs_background": "light"
     },
     "output_type": "display_data"
    },
    {
     "name": "stdout",
     "output_type": "stream",
     "text": [
      "count    14761.000\n",
      "mean         0.081\n",
      "std          0.274\n",
      "min          0.000\n",
      "25%          0.000\n",
      "50%          0.000\n",
      "75%          0.000\n",
      "max          1.000\n",
      "Name: TARGET, dtype: float64\n",
      "\n",
      "Range: 1\n",
      "Interquartile Range: 0.0\n",
      "\n",
      "Skewness: 3.059229942265289\n",
      "Kurtosis: 7.358887839652484\n"
     ]
    }
   ],
   "source": [
    "descriptive_summary_n(numerical[0])"
   ]
  },
  {
   "cell_type": "code",
   "execution_count": 14,
   "id": "df1e7daa",
   "metadata": {},
   "outputs": [
    {
     "data": {
      "image/png": "[encoded data removed]",
      "text/plain": [
       "<Figure size 1368x432 with 2 Axes>"
      ]
     },
     "metadata": {
      "needs_background": "light"
     },
     "output_type": "display_data"
    },
    {
     "name": "stdout",
     "output_type": "stream",
     "text": [
      "count    14761.000\n",
      "mean         0.412\n",
      "std          0.709\n",
      "min          0.000\n",
      "25%          0.000\n",
      "50%          0.000\n",
      "75%          1.000\n",
      "max          5.000\n",
      "Name: NUM_CHILDREN, dtype: float64\n",
      "\n",
      "Range: 5\n",
      "Interquartile Range: 1.0\n",
      "\n",
      "Skewness: 1.7628718073805285\n",
      "Kurtosis: 2.891233317821687\n"
     ]
    }
   ],
   "source": [
    "descriptive_summary_n(numerical[1])"
   ]
  },
  {
   "cell_type": "markdown",
   "id": "0c944ec2",
   "metadata": {},
   "source": [
    "data kebanyakan berdistribusi antara 0 dan 1, data miring ke kanan. skewness digunakan untuk mengukur seberapa miring data. jika skewness = 0 maka data simetris dan tidak miring, jika positif berarti miring kekanan, jika negatif berarti data miring kekiri. untuk variabel jumlah anak ini data miring kekanan. dan untuk kurtosis digunakan untuk mengukur ekor/tail dari data dibandinngkan dengan distribusi normal. jika kurtosis sama dengan 3 berarti sangat dekat dengan distribusi normal, jika besar dari 3 berarti mempunyai ekor yang sangat panjang dan dan mempunyai banyak outlier. std menunjukkan seberapa beragam data, semakin besar nilai std maka semakin beragam data, dan sebaliknya."
   ]
  },
  {
   "cell_type": "code",
   "execution_count": 15,
   "id": "0820b664",
   "metadata": {},
   "outputs": [
    {
     "data": {
      "image/png": "[encoded data removed]",
      "text/plain": [
       "<Figure size 1368x432 with 2 Axes>"
      ]
     },
     "metadata": {
      "needs_background": "light"
     },
     "output_type": "display_data"
    },
    {
     "name": "stdout",
     "output_type": "stream",
     "text": [
      "count      14761.000\n",
      "mean      167496.480\n",
      "std        95387.655\n",
      "min        26550.000\n",
      "25%       112500.000\n",
      "50%       144000.000\n",
      "75%       202500.000\n",
      "max      2930026.500\n",
      "Name: INCOME, dtype: float64\n",
      "\n",
      "Range: 2903476.5\n",
      "Interquartile Range: 90000.0\n",
      "\n",
      "Skewness: 3.957470635606659\n",
      "Kurtosis: 59.53675367348839\n"
     ]
    }
   ],
   "source": [
    "descriptive_summary_n(numerical[2])"
   ]
  },
  {
   "cell_type": "markdown",
   "id": "7723b69d",
   "metadata": {},
   "source": [
    "data kebanyakan berdistribusi antara 112500 sampai 202500. data miring ke kanan. mempunyai ekor yang cukup panjang dan memiliki banyak outliers. data cukup beragam"
   ]
  },
  {
   "cell_type": "code",
   "execution_count": 16,
   "id": "06bc6e41",
   "metadata": {},
   "outputs": [
    {
     "data": {
      "image/png": "[encoded data removed]",
      "text/plain": [
       "<Figure size 1368x432 with 2 Axes>"
      ]
     },
     "metadata": {
      "needs_background": "light"
     },
     "output_type": "display_data"
    },
    {
     "name": "stdout",
     "output_type": "stream",
     "text": [
      "count      14761.000\n",
      "mean      596131.795\n",
      "std       399686.134\n",
      "min        45000.000\n",
      "25%       270000.000\n",
      "50%       509400.000\n",
      "75%       808650.000\n",
      "max      4050000.000\n",
      "Name: APPROVED_CREDIT, dtype: float64\n",
      "\n",
      "Range: 4005000.0\n",
      "Interquartile Range: 538650.0\n",
      "\n",
      "Skewness: 1.2752850781914447\n",
      "Kurtosis: 2.227398637700608\n"
     ]
    }
   ],
   "source": [
    "descriptive_summary_n(numerical[3])"
   ]
  },
  {
   "cell_type": "markdown",
   "id": "e8f8b732",
   "metadata": {},
   "source": [
    "data miring kekanan, berdasarkan kurtosis data hampir normal dan memiliki outlier"
   ]
  },
  {
   "cell_type": "code",
   "execution_count": 17,
   "id": "f14d2820",
   "metadata": {},
   "outputs": [
    {
     "data": {
      "image/png": "[encoded data removed]",
      "text/plain": [
       "<Figure size 1368x432 with 2 Axes>"
      ]
     },
     "metadata": {
      "needs_background": "light"
     },
     "output_type": "display_data"
    },
    {
     "name": "stdout",
     "output_type": "stream",
     "text": [
      "count     14761.000\n",
      "mean      27127.498\n",
      "std       14473.651\n",
      "min        2187.000\n",
      "25%       16654.500\n",
      "50%       24822.000\n",
      "75%       34573.500\n",
      "max      177826.500\n",
      "Name: ANNUITY, dtype: float64\n",
      "\n",
      "Range: 175639.5\n",
      "Interquartile Range: 17919.0\n",
      "\n",
      "Skewness: 1.458212355164265\n",
      "Kurtosis: 5.036828517939362\n"
     ]
    }
   ],
   "source": [
    "descriptive_summary_n(numerical[4])"
   ]
  },
  {
   "cell_type": "code",
   "execution_count": 18,
   "id": "af10c2ee",
   "metadata": {},
   "outputs": [
    {
     "data": {
      "image/png": "[encoded data removed]",
      "text/plain": [
       "<Figure size 1368x432 with 2 Axes>"
      ]
     },
     "metadata": {
      "needs_background": "light"
     },
     "output_type": "display_data"
    },
    {
     "name": "stdout",
     "output_type": "stream",
     "text": [
      "count      14741.000\n",
      "mean      536192.910\n",
      "std       366519.352\n",
      "min        45000.000\n",
      "25%       238500.000\n",
      "50%       450000.000\n",
      "75%       679500.000\n",
      "max      4050000.000\n",
      "Name: PRICE, dtype: float64\n",
      "\n",
      "Range: 4005000.0\n",
      "Interquartile Range: 441000.0\n",
      "\n",
      "Skewness: 1.389922213847286\n",
      "Kurtosis: 2.8049995402917487\n"
     ]
    }
   ],
   "source": [
    "descriptive_summary_n(numerical[5])"
   ]
  },
  {
   "cell_type": "code",
   "execution_count": 19,
   "id": "717e3c05",
   "metadata": {},
   "outputs": [
    {
     "data": {
      "image/png": "[encoded data removed]",
      "text/plain": [
       "<Figure size 1368x432 with 2 Axes>"
      ]
     },
     "metadata": {
      "needs_background": "light"
     },
     "output_type": "display_data"
    },
    {
     "name": "stdout",
     "output_type": "stream",
     "text": [
      "count    6449.000\n",
      "mean        0.507\n",
      "std         0.212\n",
      "min         0.017\n",
      "25%         0.340\n",
      "50%         0.511\n",
      "75%         0.677\n",
      "max         0.944\n",
      "Name: EXT_SCORE_1, dtype: float64\n",
      "\n",
      "Range: 0.9273248848571426\n",
      "Interquartile Range: 0.3376151373547616\n",
      "\n",
      "Skewness: -0.08591737970374468\n",
      "Kurtosis: -0.9396927751709252\n"
     ]
    }
   ],
   "source": [
    "descriptive_summary_n(numerical[6])"
   ]
  },
  {
   "cell_type": "code",
   "execution_count": 20,
   "id": "e5f7ac65",
   "metadata": {},
   "outputs": [
    {
     "data": {
      "image/png": "[encoded data removed]",
      "text/plain": [
       "<Figure size 1368x432 with 2 Axes>"
      ]
     },
     "metadata": {
      "needs_background": "light"
     },
     "output_type": "display_data"
    },
    {
     "name": "stdout",
     "output_type": "stream",
     "text": [
      "count    14742.000\n",
      "mean         0.516\n",
      "std          0.190\n",
      "min          0.000\n",
      "25%          0.395\n",
      "50%          0.566\n",
      "75%          0.663\n",
      "max          0.855\n",
      "Name: EXT_SCORE_2, dtype: float64\n",
      "\n",
      "Range: 0.8549869432608991\n",
      "Interquartile Range: 0.26800908495795794\n",
      "\n",
      "Skewness: -0.8073287555745905\n",
      "Kurtosis: -0.23355399084914774\n"
     ]
    }
   ],
   "source": [
    "descriptive_summary_n(numerical[7])"
   ]
  },
  {
   "cell_type": "code",
   "execution_count": 21,
   "id": "155d756a",
   "metadata": {},
   "outputs": [
    {
     "data": {
      "image/png": "[encoded data removed]",
      "text/plain": [
       "<Figure size 1368x432 with 2 Axes>"
      ]
     },
     "metadata": {
      "needs_background": "light"
     },
     "output_type": "display_data"
    },
    {
     "name": "stdout",
     "output_type": "stream",
     "text": [
      "count    11842.000\n",
      "mean         0.512\n",
      "std          0.195\n",
      "min          0.001\n",
      "25%          0.371\n",
      "50%          0.537\n",
      "75%          0.671\n",
      "max          0.883\n",
      "Name: EXT_SCORE_3, dtype: float64\n",
      "\n",
      "Range: 0.8820030475554362\n",
      "Interquartile Range: 0.30000212075629007\n",
      "\n",
      "Skewness: -0.41183935528859295\n",
      "Kurtosis: -0.6679584070504876\n"
     ]
    }
   ],
   "source": [
    "descriptive_summary_n(numerical[8])"
   ]
  },
  {
   "cell_type": "markdown",
   "id": "50fd4c99",
   "metadata": {},
   "source": [
    "# Descriptive Summaries of Categorical Data¶"
   ]
  },
  {
   "cell_type": "code",
   "execution_count": null,
   "id": "cdd8317f",
   "metadata": {},
   "outputs": [],
   "source": []
  },
  {
   "cell_type": "code",
   "execution_count": 22,
   "id": "9a895bbf",
   "metadata": {},
   "outputs": [],
   "source": [
    "def descriptive_summary_c(column):\n",
    "    print(f\"\\033[1mFrequency table of {column} variable: \\033[0m\")\n",
    "    freq_table = data[column].value_counts().to_frame().reset_index() #creating frequency table from counts of each category\n",
    "    freq_table.columns = [column, 'Frequencies']\n",
    "    freq_table['% Percentages'] = round(freq_table['Frequencies']/data[column].count()*100,2) #adding percentages\n",
    "    display(freq_table)\n",
    "    print()\n",
    "    fig,axs = plt.subplots(1,2,figsize=(15,5))\n",
    "    sns.barplot(data=freq_table, x='Frequencies', y=column, palette='flare', ax=axs[0]) #barplot to display frequencies\n",
    "    colors = sns.color_palette('flare')\n",
    "    d = list(freq_table['% Percentages'])\n",
    "    labels = list(freq_table[column])\n",
    "    plt.pie(d, labels = labels, colors = colors, autopct='%.0f%%') #pie chart to show percentage distribution of each category\n",
    "    fig.suptitle(f\"Bar Chart and Pie Chart of {column} variable\")\n",
    "    plt.show()"
   ]
  },
  {
   "cell_type": "code",
   "execution_count": 23,
   "id": "42cc1d79",
   "metadata": {},
   "outputs": [
    {
     "name": "stdout",
     "output_type": "stream",
     "text": [
      "\u001b[1mFrequency table of CONTRACT_TYPE variable: \u001b[0m\n"
     ]
    },
    {
     "data": {
      "text/html": [
       "<div>\n",
       "<style scoped>\n",
       "    .dataframe tbody tr th:only-of-type {\n",
       "        vertical-align: middle;\n",
       "    }\n",
       "\n",
       "    .dataframe tbody tr th {\n",
       "        vertical-align: top;\n",
       "    }\n",
       "\n",
       "    .dataframe thead th {\n",
       "        text-align: right;\n",
       "    }\n",
       "</style>\n",
       "<table border=\"1\" class=\"dataframe\">\n",
       "  <thead>\n",
       "    <tr style=\"text-align: right;\">\n",
       "      <th></th>\n",
       "      <th>CONTRACT_TYPE</th>\n",
       "      <th>Frequencies</th>\n",
       "      <th>% Percentages</th>\n",
       "    </tr>\n",
       "  </thead>\n",
       "  <tbody>\n",
       "    <tr>\n",
       "      <th>0</th>\n",
       "      <td>Cash loans</td>\n",
       "      <td>13281</td>\n",
       "      <td>89.97</td>\n",
       "    </tr>\n",
       "    <tr>\n",
       "      <th>1</th>\n",
       "      <td>Revolving loans</td>\n",
       "      <td>1480</td>\n",
       "      <td>10.03</td>\n",
       "    </tr>\n",
       "  </tbody>\n",
       "</table>\n",
       "</div>"
      ],
      "text/plain": [
       "     CONTRACT_TYPE  Frequencies  % Percentages\n",
       "0       Cash loans        13281          89.97\n",
       "1  Revolving loans         1480          10.03"
      ]
     },
     "metadata": {},
     "output_type": "display_data"
    },
    {
     "name": "stdout",
     "output_type": "stream",
     "text": [
      "\n"
     ]
    },
    {
     "data": {
      "image/png": "[encoded data removed]",
      "text/plain": [
       "<Figure size 1080x360 with 2 Axes>"
      ]
     },
     "metadata": {
      "needs_background": "light"
     },
     "output_type": "display_data"
    }
   ],
   "source": [
    "descriptive_summary_c(categorical[0])"
   ]
  },
  {
   "cell_type": "code",
   "execution_count": 24,
   "id": "16d8f734",
   "metadata": {},
   "outputs": [
    {
     "name": "stdout",
     "output_type": "stream",
     "text": [
      "\u001b[1mFrequency table of GENDER variable: \u001b[0m\n"
     ]
    },
    {
     "data": {
      "text/html": [
       "<div>\n",
       "<style scoped>\n",
       "    .dataframe tbody tr th:only-of-type {\n",
       "        vertical-align: middle;\n",
       "    }\n",
       "\n",
       "    .dataframe tbody tr th {\n",
       "        vertical-align: top;\n",
       "    }\n",
       "\n",
       "    .dataframe thead th {\n",
       "        text-align: right;\n",
       "    }\n",
       "</style>\n",
       "<table border=\"1\" class=\"dataframe\">\n",
       "  <thead>\n",
       "    <tr style=\"text-align: right;\">\n",
       "      <th></th>\n",
       "      <th>GENDER</th>\n",
       "      <th>Frequencies</th>\n",
       "      <th>% Percentages</th>\n",
       "    </tr>\n",
       "  </thead>\n",
       "  <tbody>\n",
       "    <tr>\n",
       "      <th>0</th>\n",
       "      <td>F</td>\n",
       "      <td>9685</td>\n",
       "      <td>65.61</td>\n",
       "    </tr>\n",
       "    <tr>\n",
       "      <th>1</th>\n",
       "      <td>M</td>\n",
       "      <td>5076</td>\n",
       "      <td>34.39</td>\n",
       "    </tr>\n",
       "  </tbody>\n",
       "</table>\n",
       "</div>"
      ],
      "text/plain": [
       "  GENDER  Frequencies  % Percentages\n",
       "0      F         9685          65.61\n",
       "1      M         5076          34.39"
      ]
     },
     "metadata": {},
     "output_type": "display_data"
    },
    {
     "name": "stdout",
     "output_type": "stream",
     "text": [
      "\n"
     ]
    },
    {
     "data": {
      "image/png": "[encoded data removed]",
      "text/plain": [
       "<Figure size 1080x360 with 2 Axes>"
      ]
     },
     "metadata": {
      "needs_background": "light"
     },
     "output_type": "display_data"
    }
   ],
   "source": [
    "descriptive_summary_c(categorical[1])"
   ]
  },
  {
   "cell_type": "code",
   "execution_count": 25,
   "id": "676241ac",
   "metadata": {},
   "outputs": [
    {
     "name": "stdout",
     "output_type": "stream",
     "text": [
      "\u001b[1mFrequency table of INCOME_TYPE variable: \u001b[0m\n"
     ]
    },
    {
     "data": {
      "text/html": [
       "<div>\n",
       "<style scoped>\n",
       "    .dataframe tbody tr th:only-of-type {\n",
       "        vertical-align: middle;\n",
       "    }\n",
       "\n",
       "    .dataframe tbody tr th {\n",
       "        vertical-align: top;\n",
       "    }\n",
       "\n",
       "    .dataframe thead th {\n",
       "        text-align: right;\n",
       "    }\n",
       "</style>\n",
       "<table border=\"1\" class=\"dataframe\">\n",
       "  <thead>\n",
       "    <tr style=\"text-align: right;\">\n",
       "      <th></th>\n",
       "      <th>INCOME_TYPE</th>\n",
       "      <th>Frequencies</th>\n",
       "      <th>% Percentages</th>\n",
       "    </tr>\n",
       "  </thead>\n",
       "  <tbody>\n",
       "    <tr>\n",
       "      <th>0</th>\n",
       "      <td>Working</td>\n",
       "      <td>7571</td>\n",
       "      <td>51.29</td>\n",
       "    </tr>\n",
       "    <tr>\n",
       "      <th>1</th>\n",
       "      <td>Commercial associate</td>\n",
       "      <td>3427</td>\n",
       "      <td>23.22</td>\n",
       "    </tr>\n",
       "    <tr>\n",
       "      <th>2</th>\n",
       "      <td>Pensioner</td>\n",
       "      <td>2726</td>\n",
       "      <td>18.47</td>\n",
       "    </tr>\n",
       "    <tr>\n",
       "      <th>3</th>\n",
       "      <td>State servant</td>\n",
       "      <td>1036</td>\n",
       "      <td>7.02</td>\n",
       "    </tr>\n",
       "    <tr>\n",
       "      <th>4</th>\n",
       "      <td>Unemployed</td>\n",
       "      <td>1</td>\n",
       "      <td>0.01</td>\n",
       "    </tr>\n",
       "  </tbody>\n",
       "</table>\n",
       "</div>"
      ],
      "text/plain": [
       "            INCOME_TYPE  Frequencies  % Percentages\n",
       "0               Working         7571          51.29\n",
       "1  Commercial associate         3427          23.22\n",
       "2             Pensioner         2726          18.47\n",
       "3         State servant         1036           7.02\n",
       "4            Unemployed            1           0.01"
      ]
     },
     "metadata": {},
     "output_type": "display_data"
    },
    {
     "name": "stdout",
     "output_type": "stream",
     "text": [
      "\n"
     ]
    },
    {
     "data": {
      "image/png": "[encoded data removed]",
      "text/plain": [
       "<Figure size 1080x360 with 2 Axes>"
      ]
     },
     "metadata": {
      "needs_background": "light"
     },
     "output_type": "display_data"
    }
   ],
   "source": [
    "descriptive_summary_c(categorical[2])"
   ]
  },
  {
   "cell_type": "code",
   "execution_count": 26,
   "id": "25a5757e",
   "metadata": {},
   "outputs": [
    {
     "name": "stdout",
     "output_type": "stream",
     "text": [
      "\u001b[1mFrequency table of EDUCATION variable: \u001b[0m\n"
     ]
    },
    {
     "data": {
      "text/html": [
       "<div>\n",
       "<style scoped>\n",
       "    .dataframe tbody tr th:only-of-type {\n",
       "        vertical-align: middle;\n",
       "    }\n",
       "\n",
       "    .dataframe tbody tr th {\n",
       "        vertical-align: top;\n",
       "    }\n",
       "\n",
       "    .dataframe thead th {\n",
       "        text-align: right;\n",
       "    }\n",
       "</style>\n",
       "<table border=\"1\" class=\"dataframe\">\n",
       "  <thead>\n",
       "    <tr style=\"text-align: right;\">\n",
       "      <th></th>\n",
       "      <th>EDUCATION</th>\n",
       "      <th>Frequencies</th>\n",
       "      <th>% Percentages</th>\n",
       "    </tr>\n",
       "  </thead>\n",
       "  <tbody>\n",
       "    <tr>\n",
       "      <th>0</th>\n",
       "      <td>Secondary / secondary special</td>\n",
       "      <td>10431</td>\n",
       "      <td>70.67</td>\n",
       "    </tr>\n",
       "    <tr>\n",
       "      <th>1</th>\n",
       "      <td>Higher education</td>\n",
       "      <td>3615</td>\n",
       "      <td>24.49</td>\n",
       "    </tr>\n",
       "    <tr>\n",
       "      <th>2</th>\n",
       "      <td>Incomplete higher</td>\n",
       "      <td>500</td>\n",
       "      <td>3.39</td>\n",
       "    </tr>\n",
       "    <tr>\n",
       "      <th>3</th>\n",
       "      <td>Lower secondary</td>\n",
       "      <td>208</td>\n",
       "      <td>1.41</td>\n",
       "    </tr>\n",
       "    <tr>\n",
       "      <th>4</th>\n",
       "      <td>Academic degree</td>\n",
       "      <td>7</td>\n",
       "      <td>0.05</td>\n",
       "    </tr>\n",
       "  </tbody>\n",
       "</table>\n",
       "</div>"
      ],
      "text/plain": [
       "                       EDUCATION  Frequencies  % Percentages\n",
       "0  Secondary / secondary special        10431          70.67\n",
       "1               Higher education         3615          24.49\n",
       "2              Incomplete higher          500           3.39\n",
       "3                Lower secondary          208           1.41\n",
       "4                Academic degree            7           0.05"
      ]
     },
     "metadata": {},
     "output_type": "display_data"
    },
    {
     "name": "stdout",
     "output_type": "stream",
     "text": [
      "\n"
     ]
    },
    {
     "data": {
      "image/png": "[encoded data removed]",
      "text/plain": [
       "<Figure size 1080x360 with 2 Axes>"
      ]
     },
     "metadata": {
      "needs_background": "light"
     },
     "output_type": "display_data"
    }
   ],
   "source": [
    "descriptive_summary_c(categorical[3])"
   ]
  },
  {
   "cell_type": "code",
   "execution_count": 27,
   "id": "60677c14",
   "metadata": {},
   "outputs": [
    {
     "name": "stdout",
     "output_type": "stream",
     "text": [
      "\u001b[1mFrequency table of FAMILY_STATUS variable: \u001b[0m\n"
     ]
    },
    {
     "data": {
      "text/html": [
       "<div>\n",
       "<style scoped>\n",
       "    .dataframe tbody tr th:only-of-type {\n",
       "        vertical-align: middle;\n",
       "    }\n",
       "\n",
       "    .dataframe tbody tr th {\n",
       "        vertical-align: top;\n",
       "    }\n",
       "\n",
       "    .dataframe thead th {\n",
       "        text-align: right;\n",
       "    }\n",
       "</style>\n",
       "<table border=\"1\" class=\"dataframe\">\n",
       "  <thead>\n",
       "    <tr style=\"text-align: right;\">\n",
       "      <th></th>\n",
       "      <th>FAMILY_STATUS</th>\n",
       "      <th>Frequencies</th>\n",
       "      <th>% Percentages</th>\n",
       "    </tr>\n",
       "  </thead>\n",
       "  <tbody>\n",
       "    <tr>\n",
       "      <th>0</th>\n",
       "      <td>Married</td>\n",
       "      <td>9539</td>\n",
       "      <td>64.62</td>\n",
       "    </tr>\n",
       "    <tr>\n",
       "      <th>1</th>\n",
       "      <td>Single / not married</td>\n",
       "      <td>2084</td>\n",
       "      <td>14.12</td>\n",
       "    </tr>\n",
       "    <tr>\n",
       "      <th>2</th>\n",
       "      <td>Civil marriage</td>\n",
       "      <td>1441</td>\n",
       "      <td>9.76</td>\n",
       "    </tr>\n",
       "    <tr>\n",
       "      <th>3</th>\n",
       "      <td>Separated</td>\n",
       "      <td>937</td>\n",
       "      <td>6.35</td>\n",
       "    </tr>\n",
       "    <tr>\n",
       "      <th>4</th>\n",
       "      <td>Widow</td>\n",
       "      <td>760</td>\n",
       "      <td>5.15</td>\n",
       "    </tr>\n",
       "  </tbody>\n",
       "</table>\n",
       "</div>"
      ],
      "text/plain": [
       "          FAMILY_STATUS  Frequencies  % Percentages\n",
       "0               Married         9539          64.62\n",
       "1  Single / not married         2084          14.12\n",
       "2        Civil marriage         1441           9.76\n",
       "3             Separated          937           6.35\n",
       "4                 Widow          760           5.15"
      ]
     },
     "metadata": {},
     "output_type": "display_data"
    },
    {
     "name": "stdout",
     "output_type": "stream",
     "text": [
      "\n"
     ]
    },
    {
     "data": {
      "image/png": "[encoded data removed]",
      "text/plain": [
       "<Figure size 1080x360 with 2 Axes>"
      ]
     },
     "metadata": {
      "needs_background": "light"
     },
     "output_type": "display_data"
    }
   ],
   "source": [
    "descriptive_summary_c(categorical[4])"
   ]
  },
  {
   "cell_type": "code",
   "execution_count": 28,
   "id": "e2211d34",
   "metadata": {},
   "outputs": [
    {
     "name": "stdout",
     "output_type": "stream",
     "text": [
      "\u001b[1mFrequency table of HOUSING_TYPE variable: \u001b[0m\n"
     ]
    },
    {
     "data": {
      "text/html": [
       "<div>\n",
       "<style scoped>\n",
       "    .dataframe tbody tr th:only-of-type {\n",
       "        vertical-align: middle;\n",
       "    }\n",
       "\n",
       "    .dataframe tbody tr th {\n",
       "        vertical-align: top;\n",
       "    }\n",
       "\n",
       "    .dataframe thead th {\n",
       "        text-align: right;\n",
       "    }\n",
       "</style>\n",
       "<table border=\"1\" class=\"dataframe\">\n",
       "  <thead>\n",
       "    <tr style=\"text-align: right;\">\n",
       "      <th></th>\n",
       "      <th>HOUSING_TYPE</th>\n",
       "      <th>Frequencies</th>\n",
       "      <th>% Percentages</th>\n",
       "    </tr>\n",
       "  </thead>\n",
       "  <tbody>\n",
       "    <tr>\n",
       "      <th>0</th>\n",
       "      <td>House / apartment</td>\n",
       "      <td>13135</td>\n",
       "      <td>88.98</td>\n",
       "    </tr>\n",
       "    <tr>\n",
       "      <th>1</th>\n",
       "      <td>With parents</td>\n",
       "      <td>697</td>\n",
       "      <td>4.72</td>\n",
       "    </tr>\n",
       "    <tr>\n",
       "      <th>2</th>\n",
       "      <td>Municipal apartment</td>\n",
       "      <td>531</td>\n",
       "      <td>3.60</td>\n",
       "    </tr>\n",
       "    <tr>\n",
       "      <th>3</th>\n",
       "      <td>Rented apartment</td>\n",
       "      <td>218</td>\n",
       "      <td>1.48</td>\n",
       "    </tr>\n",
       "    <tr>\n",
       "      <th>4</th>\n",
       "      <td>Office apartment</td>\n",
       "      <td>128</td>\n",
       "      <td>0.87</td>\n",
       "    </tr>\n",
       "    <tr>\n",
       "      <th>5</th>\n",
       "      <td>Co-op apartment</td>\n",
       "      <td>52</td>\n",
       "      <td>0.35</td>\n",
       "    </tr>\n",
       "  </tbody>\n",
       "</table>\n",
       "</div>"
      ],
      "text/plain": [
       "          HOUSING_TYPE  Frequencies  % Percentages\n",
       "0    House / apartment        13135          88.98\n",
       "1         With parents          697           4.72\n",
       "2  Municipal apartment          531           3.60\n",
       "3     Rented apartment          218           1.48\n",
       "4     Office apartment          128           0.87\n",
       "5      Co-op apartment           52           0.35"
      ]
     },
     "metadata": {},
     "output_type": "display_data"
    },
    {
     "name": "stdout",
     "output_type": "stream",
     "text": [
      "\n"
     ]
    },
    {
     "data": {
      "image/png": "[encoded data removed]",
      "text/plain": [
       "<Figure size 1080x360 with 2 Axes>"
      ]
     },
     "metadata": {
      "needs_background": "light"
     },
     "output_type": "display_data"
    }
   ],
   "source": [
    "descriptive_summary_c(categorical[5])"
   ]
  },
  {
   "cell_type": "code",
   "execution_count": null,
   "id": "3a63f645",
   "metadata": {},
   "outputs": [],
   "source": []
  },
  {
   "cell_type": "markdown",
   "id": "3e8911b9",
   "metadata": {},
   "source": [
    "# Checking the correlation between features and target"
   ]
  },
  {
   "cell_type": "code",
   "execution_count": 30,
   "id": "1e987199",
   "metadata": {},
   "outputs": [],
   "source": [
    "def get_corr(data,col):\n",
    "    cor = data.corr(method = 'spearman')[col].sort_values(ascending =False)\n",
    "    print(cor)"
   ]
  },
  {
   "cell_type": "code",
   "execution_count": 31,
   "id": "42cae2a7",
   "metadata": {},
   "outputs": [
    {
     "name": "stdout",
     "output_type": "stream",
     "text": [
      "TARGET             1.000000\n",
      "ANNUITY            0.014828\n",
      "NUM_CHILDREN       0.010074\n",
      "APPROVED_CREDIT   -0.002646\n",
      "INCOME            -0.015805\n",
      "PRICE             -0.016329\n",
      "EXT_SCORE_2       -0.140667\n",
      "EXT_SCORE_1       -0.145311\n",
      "EXT_SCORE_3       -0.179712\n",
      "Name: TARGET, dtype: float64\n"
     ]
    }
   ],
   "source": [
    "get_corr(data,'TARGET')"
   ]
  },
  {
   "cell_type": "code",
   "execution_count": 32,
   "id": "b20cdabb",
   "metadata": {},
   "outputs": [
    {
     "data": {
      "text/html": [
       "<div>\n",
       "<style scoped>\n",
       "    .dataframe tbody tr th:only-of-type {\n",
       "        vertical-align: middle;\n",
       "    }\n",
       "\n",
       "    .dataframe tbody tr th {\n",
       "        vertical-align: top;\n",
       "    }\n",
       "\n",
       "    .dataframe thead th {\n",
       "        text-align: right;\n",
       "    }\n",
       "</style>\n",
       "<table border=\"1\" class=\"dataframe\">\n",
       "  <thead>\n",
       "    <tr style=\"text-align: right;\">\n",
       "      <th></th>\n",
       "      <th>TARGET</th>\n",
       "      <th>NUM_CHILDREN</th>\n",
       "      <th>INCOME</th>\n",
       "      <th>APPROVED_CREDIT</th>\n",
       "      <th>ANNUITY</th>\n",
       "      <th>PRICE</th>\n",
       "      <th>EXT_SCORE_1</th>\n",
       "      <th>EXT_SCORE_2</th>\n",
       "      <th>EXT_SCORE_3</th>\n",
       "    </tr>\n",
       "  </thead>\n",
       "  <tbody>\n",
       "    <tr>\n",
       "      <th>TARGET</th>\n",
       "      <td>1.0</td>\n",
       "      <td>NaN</td>\n",
       "      <td>NaN</td>\n",
       "      <td>NaN</td>\n",
       "      <td>NaN</td>\n",
       "      <td>NaN</td>\n",
       "      <td>NaN</td>\n",
       "      <td>NaN</td>\n",
       "      <td>NaN</td>\n",
       "    </tr>\n",
       "    <tr>\n",
       "      <th>NUM_CHILDREN</th>\n",
       "      <td>NaN</td>\n",
       "      <td>1.0</td>\n",
       "      <td>NaN</td>\n",
       "      <td>NaN</td>\n",
       "      <td>NaN</td>\n",
       "      <td>NaN</td>\n",
       "      <td>NaN</td>\n",
       "      <td>NaN</td>\n",
       "      <td>NaN</td>\n",
       "    </tr>\n",
       "    <tr>\n",
       "      <th>INCOME</th>\n",
       "      <td>NaN</td>\n",
       "      <td>NaN</td>\n",
       "      <td>1.0</td>\n",
       "      <td>NaN</td>\n",
       "      <td>NaN</td>\n",
       "      <td>NaN</td>\n",
       "      <td>NaN</td>\n",
       "      <td>NaN</td>\n",
       "      <td>NaN</td>\n",
       "    </tr>\n",
       "    <tr>\n",
       "      <th>APPROVED_CREDIT</th>\n",
       "      <td>NaN</td>\n",
       "      <td>NaN</td>\n",
       "      <td>NaN</td>\n",
       "      <td>1.000000</td>\n",
       "      <td>0.767211</td>\n",
       "      <td>0.987056</td>\n",
       "      <td>NaN</td>\n",
       "      <td>NaN</td>\n",
       "      <td>NaN</td>\n",
       "    </tr>\n",
       "    <tr>\n",
       "      <th>ANNUITY</th>\n",
       "      <td>NaN</td>\n",
       "      <td>NaN</td>\n",
       "      <td>NaN</td>\n",
       "      <td>0.767211</td>\n",
       "      <td>1.000000</td>\n",
       "      <td>0.772358</td>\n",
       "      <td>NaN</td>\n",
       "      <td>NaN</td>\n",
       "      <td>NaN</td>\n",
       "    </tr>\n",
       "    <tr>\n",
       "      <th>PRICE</th>\n",
       "      <td>NaN</td>\n",
       "      <td>NaN</td>\n",
       "      <td>NaN</td>\n",
       "      <td>0.987056</td>\n",
       "      <td>0.772358</td>\n",
       "      <td>1.000000</td>\n",
       "      <td>NaN</td>\n",
       "      <td>NaN</td>\n",
       "      <td>NaN</td>\n",
       "    </tr>\n",
       "    <tr>\n",
       "      <th>EXT_SCORE_1</th>\n",
       "      <td>NaN</td>\n",
       "      <td>NaN</td>\n",
       "      <td>NaN</td>\n",
       "      <td>NaN</td>\n",
       "      <td>NaN</td>\n",
       "      <td>NaN</td>\n",
       "      <td>1.0</td>\n",
       "      <td>NaN</td>\n",
       "      <td>NaN</td>\n",
       "    </tr>\n",
       "    <tr>\n",
       "      <th>EXT_SCORE_2</th>\n",
       "      <td>NaN</td>\n",
       "      <td>NaN</td>\n",
       "      <td>NaN</td>\n",
       "      <td>NaN</td>\n",
       "      <td>NaN</td>\n",
       "      <td>NaN</td>\n",
       "      <td>NaN</td>\n",
       "      <td>1.0</td>\n",
       "      <td>NaN</td>\n",
       "    </tr>\n",
       "    <tr>\n",
       "      <th>EXT_SCORE_3</th>\n",
       "      <td>NaN</td>\n",
       "      <td>NaN</td>\n",
       "      <td>NaN</td>\n",
       "      <td>NaN</td>\n",
       "      <td>NaN</td>\n",
       "      <td>NaN</td>\n",
       "      <td>NaN</td>\n",
       "      <td>NaN</td>\n",
       "      <td>1.0</td>\n",
       "    </tr>\n",
       "  </tbody>\n",
       "</table>\n",
       "</div>"
      ],
      "text/plain": [
       "                 TARGET  NUM_CHILDREN  INCOME  APPROVED_CREDIT   ANNUITY  \\\n",
       "TARGET              1.0           NaN     NaN              NaN       NaN   \n",
       "NUM_CHILDREN        NaN           1.0     NaN              NaN       NaN   \n",
       "INCOME              NaN           NaN     1.0              NaN       NaN   \n",
       "APPROVED_CREDIT     NaN           NaN     NaN         1.000000  0.767211   \n",
       "ANNUITY             NaN           NaN     NaN         0.767211  1.000000   \n",
       "PRICE               NaN           NaN     NaN         0.987056  0.772358   \n",
       "EXT_SCORE_1         NaN           NaN     NaN              NaN       NaN   \n",
       "EXT_SCORE_2         NaN           NaN     NaN              NaN       NaN   \n",
       "EXT_SCORE_3         NaN           NaN     NaN              NaN       NaN   \n",
       "\n",
       "                    PRICE  EXT_SCORE_1  EXT_SCORE_2  EXT_SCORE_3  \n",
       "TARGET                NaN          NaN          NaN          NaN  \n",
       "NUM_CHILDREN          NaN          NaN          NaN          NaN  \n",
       "INCOME                NaN          NaN          NaN          NaN  \n",
       "APPROVED_CREDIT  0.987056          NaN          NaN          NaN  \n",
       "ANNUITY          0.772358          NaN          NaN          NaN  \n",
       "PRICE            1.000000          NaN          NaN          NaN  \n",
       "EXT_SCORE_1           NaN          1.0          NaN          NaN  \n",
       "EXT_SCORE_2           NaN          NaN          1.0          NaN  \n",
       "EXT_SCORE_3           NaN          NaN          NaN          1.0  "
      ]
     },
     "execution_count": 32,
     "metadata": {},
     "output_type": "execute_result"
    }
   ],
   "source": [
    "cor = data.corr()\n",
    "cor[((cor >= .5) | (cor<= -.5))]"
   ]
  },
  {
   "cell_type": "markdown",
   "id": "8e2332a5",
   "metadata": {},
   "source": [
    "# getting independent and dependent variables"
   ]
  },
  {
   "cell_type": "code",
   "execution_count": 33,
   "id": "433070b5",
   "metadata": {},
   "outputs": [
    {
     "data": {
      "text/html": [
       "<div>\n",
       "<style scoped>\n",
       "    .dataframe tbody tr th:only-of-type {\n",
       "        vertical-align: middle;\n",
       "    }\n",
       "\n",
       "    .dataframe tbody tr th {\n",
       "        vertical-align: top;\n",
       "    }\n",
       "\n",
       "    .dataframe thead th {\n",
       "        text-align: right;\n",
       "    }\n",
       "</style>\n",
       "<table border=\"1\" class=\"dataframe\">\n",
       "  <thead>\n",
       "    <tr style=\"text-align: right;\">\n",
       "      <th></th>\n",
       "      <th>TARGET</th>\n",
       "      <th>CONTRACT_TYPE</th>\n",
       "      <th>GENDER</th>\n",
       "      <th>NUM_CHILDREN</th>\n",
       "      <th>INCOME</th>\n",
       "      <th>APPROVED_CREDIT</th>\n",
       "      <th>ANNUITY</th>\n",
       "      <th>PRICE</th>\n",
       "      <th>INCOME_TYPE</th>\n",
       "      <th>EDUCATION</th>\n",
       "      <th>FAMILY_STATUS</th>\n",
       "      <th>HOUSING_TYPE</th>\n",
       "      <th>EXT_SCORE_1</th>\n",
       "      <th>EXT_SCORE_2</th>\n",
       "      <th>EXT_SCORE_3</th>\n",
       "    </tr>\n",
       "  </thead>\n",
       "  <tbody>\n",
       "    <tr>\n",
       "      <th>0</th>\n",
       "      <td>0</td>\n",
       "      <td>Cash loans</td>\n",
       "      <td>M</td>\n",
       "      <td>3</td>\n",
       "      <td>135000.0</td>\n",
       "      <td>871029.0</td>\n",
       "      <td>44604.0</td>\n",
       "      <td>765000.0</td>\n",
       "      <td>Working</td>\n",
       "      <td>Secondary / secondary special</td>\n",
       "      <td>Married</td>\n",
       "      <td>House / apartment</td>\n",
       "      <td>NaN</td>\n",
       "      <td>0.145475</td>\n",
       "      <td>0.651260</td>\n",
       "    </tr>\n",
       "    <tr>\n",
       "      <th>1</th>\n",
       "      <td>0</td>\n",
       "      <td>Cash loans</td>\n",
       "      <td>F</td>\n",
       "      <td>0</td>\n",
       "      <td>144000.0</td>\n",
       "      <td>485640.0</td>\n",
       "      <td>34537.5</td>\n",
       "      <td>450000.0</td>\n",
       "      <td>Working</td>\n",
       "      <td>Higher education</td>\n",
       "      <td>Married</td>\n",
       "      <td>Office apartment</td>\n",
       "      <td>NaN</td>\n",
       "      <td>0.682675</td>\n",
       "      <td>NaN</td>\n",
       "    </tr>\n",
       "    <tr>\n",
       "      <th>2</th>\n",
       "      <td>0</td>\n",
       "      <td>Cash loans</td>\n",
       "      <td>F</td>\n",
       "      <td>1</td>\n",
       "      <td>90000.0</td>\n",
       "      <td>247500.0</td>\n",
       "      <td>8887.5</td>\n",
       "      <td>247500.0</td>\n",
       "      <td>Working</td>\n",
       "      <td>Secondary / secondary special</td>\n",
       "      <td>Married</td>\n",
       "      <td>House / apartment</td>\n",
       "      <td>0.814700</td>\n",
       "      <td>0.686312</td>\n",
       "      <td>0.758393</td>\n",
       "    </tr>\n",
       "    <tr>\n",
       "      <th>3</th>\n",
       "      <td>0</td>\n",
       "      <td>Cash loans</td>\n",
       "      <td>M</td>\n",
       "      <td>2</td>\n",
       "      <td>112500.0</td>\n",
       "      <td>506889.0</td>\n",
       "      <td>24781.5</td>\n",
       "      <td>418500.0</td>\n",
       "      <td>Working</td>\n",
       "      <td>Secondary / secondary special</td>\n",
       "      <td>Married</td>\n",
       "      <td>House / apartment</td>\n",
       "      <td>0.399219</td>\n",
       "      <td>0.266520</td>\n",
       "      <td>0.058826</td>\n",
       "    </tr>\n",
       "    <tr>\n",
       "      <th>4</th>\n",
       "      <td>0</td>\n",
       "      <td>Cash loans</td>\n",
       "      <td>M</td>\n",
       "      <td>0</td>\n",
       "      <td>216000.0</td>\n",
       "      <td>450000.0</td>\n",
       "      <td>21888.0</td>\n",
       "      <td>450000.0</td>\n",
       "      <td>Working</td>\n",
       "      <td>Incomplete higher</td>\n",
       "      <td>Married</td>\n",
       "      <td>House / apartment</td>\n",
       "      <td>0.368452</td>\n",
       "      <td>0.610483</td>\n",
       "      <td>0.392774</td>\n",
       "    </tr>\n",
       "    <tr>\n",
       "      <th>...</th>\n",
       "      <td>...</td>\n",
       "      <td>...</td>\n",
       "      <td>...</td>\n",
       "      <td>...</td>\n",
       "      <td>...</td>\n",
       "      <td>...</td>\n",
       "      <td>...</td>\n",
       "      <td>...</td>\n",
       "      <td>...</td>\n",
       "      <td>...</td>\n",
       "      <td>...</td>\n",
       "      <td>...</td>\n",
       "      <td>...</td>\n",
       "      <td>...</td>\n",
       "      <td>...</td>\n",
       "    </tr>\n",
       "    <tr>\n",
       "      <th>14756</th>\n",
       "      <td>0</td>\n",
       "      <td>Cash loans</td>\n",
       "      <td>F</td>\n",
       "      <td>1</td>\n",
       "      <td>67500.0</td>\n",
       "      <td>112500.0</td>\n",
       "      <td>7317.0</td>\n",
       "      <td>112500.0</td>\n",
       "      <td>Working</td>\n",
       "      <td>Secondary / secondary special</td>\n",
       "      <td>Married</td>\n",
       "      <td>House / apartment</td>\n",
       "      <td>0.570305</td>\n",
       "      <td>0.399628</td>\n",
       "      <td>0.586740</td>\n",
       "    </tr>\n",
       "    <tr>\n",
       "      <th>14757</th>\n",
       "      <td>1</td>\n",
       "      <td>Cash loans</td>\n",
       "      <td>F</td>\n",
       "      <td>1</td>\n",
       "      <td>135000.0</td>\n",
       "      <td>313438.5</td>\n",
       "      <td>21073.5</td>\n",
       "      <td>283500.0</td>\n",
       "      <td>Working</td>\n",
       "      <td>Secondary / secondary special</td>\n",
       "      <td>Civil marriage</td>\n",
       "      <td>With parents</td>\n",
       "      <td>NaN</td>\n",
       "      <td>0.610758</td>\n",
       "      <td>0.368969</td>\n",
       "    </tr>\n",
       "    <tr>\n",
       "      <th>14758</th>\n",
       "      <td>0</td>\n",
       "      <td>Cash loans</td>\n",
       "      <td>F</td>\n",
       "      <td>0</td>\n",
       "      <td>157500.0</td>\n",
       "      <td>1078200.0</td>\n",
       "      <td>31522.5</td>\n",
       "      <td>900000.0</td>\n",
       "      <td>State servant</td>\n",
       "      <td>Higher education</td>\n",
       "      <td>Separated</td>\n",
       "      <td>House / apartment</td>\n",
       "      <td>NaN</td>\n",
       "      <td>0.639824</td>\n",
       "      <td>0.782608</td>\n",
       "    </tr>\n",
       "    <tr>\n",
       "      <th>14759</th>\n",
       "      <td>0</td>\n",
       "      <td>Cash loans</td>\n",
       "      <td>F</td>\n",
       "      <td>0</td>\n",
       "      <td>216000.0</td>\n",
       "      <td>272520.0</td>\n",
       "      <td>21658.5</td>\n",
       "      <td>225000.0</td>\n",
       "      <td>Pensioner</td>\n",
       "      <td>Secondary / secondary special</td>\n",
       "      <td>Widow</td>\n",
       "      <td>House / apartment</td>\n",
       "      <td>NaN</td>\n",
       "      <td>0.642139</td>\n",
       "      <td>0.584990</td>\n",
       "    </tr>\n",
       "    <tr>\n",
       "      <th>14760</th>\n",
       "      <td>0</td>\n",
       "      <td>Cash loans</td>\n",
       "      <td>F</td>\n",
       "      <td>3</td>\n",
       "      <td>112500.0</td>\n",
       "      <td>260640.0</td>\n",
       "      <td>20299.5</td>\n",
       "      <td>225000.0</td>\n",
       "      <td>Working</td>\n",
       "      <td>Secondary / secondary special</td>\n",
       "      <td>Separated</td>\n",
       "      <td>House / apartment</td>\n",
       "      <td>NaN</td>\n",
       "      <td>0.381569</td>\n",
       "      <td>0.520898</td>\n",
       "    </tr>\n",
       "  </tbody>\n",
       "</table>\n",
       "<p>14761 rows × 15 columns</p>\n",
       "</div>"
      ],
      "text/plain": [
       "       TARGET CONTRACT_TYPE GENDER  NUM_CHILDREN    INCOME  APPROVED_CREDIT  \\\n",
       "0           0    Cash loans      M             3  135000.0         871029.0   \n",
       "1           0    Cash loans      F             0  144000.0         485640.0   \n",
       "2           0    Cash loans      F             1   90000.0         247500.0   \n",
       "3           0    Cash loans      M             2  112500.0         506889.0   \n",
       "4           0    Cash loans      M             0  216000.0         450000.0   \n",
       "...       ...           ...    ...           ...       ...              ...   \n",
       "14756       0    Cash loans      F             1   67500.0         112500.0   \n",
       "14757       1    Cash loans      F             1  135000.0         313438.5   \n",
       "14758       0    Cash loans      F             0  157500.0        1078200.0   \n",
       "14759       0    Cash loans      F             0  216000.0         272520.0   \n",
       "14760       0    Cash loans      F             3  112500.0         260640.0   \n",
       "\n",
       "       ANNUITY     PRICE    INCOME_TYPE                      EDUCATION  \\\n",
       "0      44604.0  765000.0        Working  Secondary / secondary special   \n",
       "1      34537.5  450000.0        Working               Higher education   \n",
       "2       8887.5  247500.0        Working  Secondary / secondary special   \n",
       "3      24781.5  418500.0        Working  Secondary / secondary special   \n",
       "4      21888.0  450000.0        Working              Incomplete higher   \n",
       "...        ...       ...            ...                            ...   \n",
       "14756   7317.0  112500.0        Working  Secondary / secondary special   \n",
       "14757  21073.5  283500.0        Working  Secondary / secondary special   \n",
       "14758  31522.5  900000.0  State servant               Higher education   \n",
       "14759  21658.5  225000.0      Pensioner  Secondary / secondary special   \n",
       "14760  20299.5  225000.0        Working  Secondary / secondary special   \n",
       "\n",
       "        FAMILY_STATUS       HOUSING_TYPE  EXT_SCORE_1  EXT_SCORE_2  \\\n",
       "0             Married  House / apartment          NaN     0.145475   \n",
       "1             Married   Office apartment          NaN     0.682675   \n",
       "2             Married  House / apartment     0.814700     0.686312   \n",
       "3             Married  House / apartment     0.399219     0.266520   \n",
       "4             Married  House / apartment     0.368452     0.610483   \n",
       "...               ...                ...          ...          ...   \n",
       "14756         Married  House / apartment     0.570305     0.399628   \n",
       "14757  Civil marriage       With parents          NaN     0.610758   \n",
       "14758       Separated  House / apartment          NaN     0.639824   \n",
       "14759           Widow  House / apartment          NaN     0.642139   \n",
       "14760       Separated  House / apartment          NaN     0.381569   \n",
       "\n",
       "       EXT_SCORE_3  \n",
       "0         0.651260  \n",
       "1              NaN  \n",
       "2         0.758393  \n",
       "3         0.058826  \n",
       "4         0.392774  \n",
       "...            ...  \n",
       "14756     0.586740  \n",
       "14757     0.368969  \n",
       "14758     0.782608  \n",
       "14759     0.584990  \n",
       "14760     0.520898  \n",
       "\n",
       "[14761 rows x 15 columns]"
      ]
     },
     "execution_count": 33,
     "metadata": {},
     "output_type": "execute_result"
    }
   ],
   "source": [
    "data"
   ]
  },
  {
   "cell_type": "code",
   "execution_count": 38,
   "id": "5110d75d",
   "metadata": {},
   "outputs": [],
   "source": [
    "x = data.iloc[ :, 1:15]\n",
    "y = data['TARGET']"
   ]
  },
  {
   "cell_type": "code",
   "execution_count": 39,
   "id": "ffb292ef",
   "metadata": {},
   "outputs": [
    {
     "data": {
      "text/html": [
       "<div>\n",
       "<style scoped>\n",
       "    .dataframe tbody tr th:only-of-type {\n",
       "        vertical-align: middle;\n",
       "    }\n",
       "\n",
       "    .dataframe tbody tr th {\n",
       "        vertical-align: top;\n",
       "    }\n",
       "\n",
       "    .dataframe thead th {\n",
       "        text-align: right;\n",
       "    }\n",
       "</style>\n",
       "<table border=\"1\" class=\"dataframe\">\n",
       "  <thead>\n",
       "    <tr style=\"text-align: right;\">\n",
       "      <th></th>\n",
       "      <th>CONTRACT_TYPE</th>\n",
       "      <th>GENDER</th>\n",
       "      <th>NUM_CHILDREN</th>\n",
       "      <th>INCOME</th>\n",
       "      <th>APPROVED_CREDIT</th>\n",
       "      <th>ANNUITY</th>\n",
       "      <th>PRICE</th>\n",
       "      <th>INCOME_TYPE</th>\n",
       "      <th>EDUCATION</th>\n",
       "      <th>FAMILY_STATUS</th>\n",
       "      <th>HOUSING_TYPE</th>\n",
       "      <th>EXT_SCORE_1</th>\n",
       "      <th>EXT_SCORE_2</th>\n",
       "      <th>EXT_SCORE_3</th>\n",
       "    </tr>\n",
       "  </thead>\n",
       "  <tbody>\n",
       "    <tr>\n",
       "      <th>0</th>\n",
       "      <td>Cash loans</td>\n",
       "      <td>M</td>\n",
       "      <td>3</td>\n",
       "      <td>135000.0</td>\n",
       "      <td>871029.0</td>\n",
       "      <td>44604.0</td>\n",
       "      <td>765000.0</td>\n",
       "      <td>Working</td>\n",
       "      <td>Secondary / secondary special</td>\n",
       "      <td>Married</td>\n",
       "      <td>House / apartment</td>\n",
       "      <td>NaN</td>\n",
       "      <td>0.145475</td>\n",
       "      <td>0.651260</td>\n",
       "    </tr>\n",
       "    <tr>\n",
       "      <th>1</th>\n",
       "      <td>Cash loans</td>\n",
       "      <td>F</td>\n",
       "      <td>0</td>\n",
       "      <td>144000.0</td>\n",
       "      <td>485640.0</td>\n",
       "      <td>34537.5</td>\n",
       "      <td>450000.0</td>\n",
       "      <td>Working</td>\n",
       "      <td>Higher education</td>\n",
       "      <td>Married</td>\n",
       "      <td>Office apartment</td>\n",
       "      <td>NaN</td>\n",
       "      <td>0.682675</td>\n",
       "      <td>NaN</td>\n",
       "    </tr>\n",
       "    <tr>\n",
       "      <th>2</th>\n",
       "      <td>Cash loans</td>\n",
       "      <td>F</td>\n",
       "      <td>1</td>\n",
       "      <td>90000.0</td>\n",
       "      <td>247500.0</td>\n",
       "      <td>8887.5</td>\n",
       "      <td>247500.0</td>\n",
       "      <td>Working</td>\n",
       "      <td>Secondary / secondary special</td>\n",
       "      <td>Married</td>\n",
       "      <td>House / apartment</td>\n",
       "      <td>0.814700</td>\n",
       "      <td>0.686312</td>\n",
       "      <td>0.758393</td>\n",
       "    </tr>\n",
       "    <tr>\n",
       "      <th>3</th>\n",
       "      <td>Cash loans</td>\n",
       "      <td>M</td>\n",
       "      <td>2</td>\n",
       "      <td>112500.0</td>\n",
       "      <td>506889.0</td>\n",
       "      <td>24781.5</td>\n",
       "      <td>418500.0</td>\n",
       "      <td>Working</td>\n",
       "      <td>Secondary / secondary special</td>\n",
       "      <td>Married</td>\n",
       "      <td>House / apartment</td>\n",
       "      <td>0.399219</td>\n",
       "      <td>0.266520</td>\n",
       "      <td>0.058826</td>\n",
       "    </tr>\n",
       "    <tr>\n",
       "      <th>4</th>\n",
       "      <td>Cash loans</td>\n",
       "      <td>M</td>\n",
       "      <td>0</td>\n",
       "      <td>216000.0</td>\n",
       "      <td>450000.0</td>\n",
       "      <td>21888.0</td>\n",
       "      <td>450000.0</td>\n",
       "      <td>Working</td>\n",
       "      <td>Incomplete higher</td>\n",
       "      <td>Married</td>\n",
       "      <td>House / apartment</td>\n",
       "      <td>0.368452</td>\n",
       "      <td>0.610483</td>\n",
       "      <td>0.392774</td>\n",
       "    </tr>\n",
       "    <tr>\n",
       "      <th>...</th>\n",
       "      <td>...</td>\n",
       "      <td>...</td>\n",
       "      <td>...</td>\n",
       "      <td>...</td>\n",
       "      <td>...</td>\n",
       "      <td>...</td>\n",
       "      <td>...</td>\n",
       "      <td>...</td>\n",
       "      <td>...</td>\n",
       "      <td>...</td>\n",
       "      <td>...</td>\n",
       "      <td>...</td>\n",
       "      <td>...</td>\n",
       "      <td>...</td>\n",
       "    </tr>\n",
       "    <tr>\n",
       "      <th>14756</th>\n",
       "      <td>Cash loans</td>\n",
       "      <td>F</td>\n",
       "      <td>1</td>\n",
       "      <td>67500.0</td>\n",
       "      <td>112500.0</td>\n",
       "      <td>7317.0</td>\n",
       "      <td>112500.0</td>\n",
       "      <td>Working</td>\n",
       "      <td>Secondary / secondary special</td>\n",
       "      <td>Married</td>\n",
       "      <td>House / apartment</td>\n",
       "      <td>0.570305</td>\n",
       "      <td>0.399628</td>\n",
       "      <td>0.586740</td>\n",
       "    </tr>\n",
       "    <tr>\n",
       "      <th>14757</th>\n",
       "      <td>Cash loans</td>\n",
       "      <td>F</td>\n",
       "      <td>1</td>\n",
       "      <td>135000.0</td>\n",
       "      <td>313438.5</td>\n",
       "      <td>21073.5</td>\n",
       "      <td>283500.0</td>\n",
       "      <td>Working</td>\n",
       "      <td>Secondary / secondary special</td>\n",
       "      <td>Civil marriage</td>\n",
       "      <td>With parents</td>\n",
       "      <td>NaN</td>\n",
       "      <td>0.610758</td>\n",
       "      <td>0.368969</td>\n",
       "    </tr>\n",
       "    <tr>\n",
       "      <th>14758</th>\n",
       "      <td>Cash loans</td>\n",
       "      <td>F</td>\n",
       "      <td>0</td>\n",
       "      <td>157500.0</td>\n",
       "      <td>1078200.0</td>\n",
       "      <td>31522.5</td>\n",
       "      <td>900000.0</td>\n",
       "      <td>State servant</td>\n",
       "      <td>Higher education</td>\n",
       "      <td>Separated</td>\n",
       "      <td>House / apartment</td>\n",
       "      <td>NaN</td>\n",
       "      <td>0.639824</td>\n",
       "      <td>0.782608</td>\n",
       "    </tr>\n",
       "    <tr>\n",
       "      <th>14759</th>\n",
       "      <td>Cash loans</td>\n",
       "      <td>F</td>\n",
       "      <td>0</td>\n",
       "      <td>216000.0</td>\n",
       "      <td>272520.0</td>\n",
       "      <td>21658.5</td>\n",
       "      <td>225000.0</td>\n",
       "      <td>Pensioner</td>\n",
       "      <td>Secondary / secondary special</td>\n",
       "      <td>Widow</td>\n",
       "      <td>House / apartment</td>\n",
       "      <td>NaN</td>\n",
       "      <td>0.642139</td>\n",
       "      <td>0.584990</td>\n",
       "    </tr>\n",
       "    <tr>\n",
       "      <th>14760</th>\n",
       "      <td>Cash loans</td>\n",
       "      <td>F</td>\n",
       "      <td>3</td>\n",
       "      <td>112500.0</td>\n",
       "      <td>260640.0</td>\n",
       "      <td>20299.5</td>\n",
       "      <td>225000.0</td>\n",
       "      <td>Working</td>\n",
       "      <td>Secondary / secondary special</td>\n",
       "      <td>Separated</td>\n",
       "      <td>House / apartment</td>\n",
       "      <td>NaN</td>\n",
       "      <td>0.381569</td>\n",
       "      <td>0.520898</td>\n",
       "    </tr>\n",
       "  </tbody>\n",
       "</table>\n",
       "<p>14761 rows × 14 columns</p>\n",
       "</div>"
      ],
      "text/plain": [
       "      CONTRACT_TYPE GENDER  NUM_CHILDREN    INCOME  APPROVED_CREDIT  ANNUITY  \\\n",
       "0        Cash loans      M             3  135000.0         871029.0  44604.0   \n",
       "1        Cash loans      F             0  144000.0         485640.0  34537.5   \n",
       "2        Cash loans      F             1   90000.0         247500.0   8887.5   \n",
       "3        Cash loans      M             2  112500.0         506889.0  24781.5   \n",
       "4        Cash loans      M             0  216000.0         450000.0  21888.0   \n",
       "...             ...    ...           ...       ...              ...      ...   \n",
       "14756    Cash loans      F             1   67500.0         112500.0   7317.0   \n",
       "14757    Cash loans      F             1  135000.0         313438.5  21073.5   \n",
       "14758    Cash loans      F             0  157500.0        1078200.0  31522.5   \n",
       "14759    Cash loans      F             0  216000.0         272520.0  21658.5   \n",
       "14760    Cash loans      F             3  112500.0         260640.0  20299.5   \n",
       "\n",
       "          PRICE    INCOME_TYPE                      EDUCATION   FAMILY_STATUS  \\\n",
       "0      765000.0        Working  Secondary / secondary special         Married   \n",
       "1      450000.0        Working               Higher education         Married   \n",
       "2      247500.0        Working  Secondary / secondary special         Married   \n",
       "3      418500.0        Working  Secondary / secondary special         Married   \n",
       "4      450000.0        Working              Incomplete higher         Married   \n",
       "...         ...            ...                            ...             ...   \n",
       "14756  112500.0        Working  Secondary / secondary special         Married   \n",
       "14757  283500.0        Working  Secondary / secondary special  Civil marriage   \n",
       "14758  900000.0  State servant               Higher education       Separated   \n",
       "14759  225000.0      Pensioner  Secondary / secondary special           Widow   \n",
       "14760  225000.0        Working  Secondary / secondary special       Separated   \n",
       "\n",
       "            HOUSING_TYPE  EXT_SCORE_1  EXT_SCORE_2  EXT_SCORE_3  \n",
       "0      House / apartment          NaN     0.145475     0.651260  \n",
       "1       Office apartment          NaN     0.682675          NaN  \n",
       "2      House / apartment     0.814700     0.686312     0.758393  \n",
       "3      House / apartment     0.399219     0.266520     0.058826  \n",
       "4      House / apartment     0.368452     0.610483     0.392774  \n",
       "...                  ...          ...          ...          ...  \n",
       "14756  House / apartment     0.570305     0.399628     0.586740  \n",
       "14757       With parents          NaN     0.610758     0.368969  \n",
       "14758  House / apartment          NaN     0.639824     0.782608  \n",
       "14759  House / apartment          NaN     0.642139     0.584990  \n",
       "14760  House / apartment          NaN     0.381569     0.520898  \n",
       "\n",
       "[14761 rows x 14 columns]"
      ]
     },
     "execution_count": 39,
     "metadata": {},
     "output_type": "execute_result"
    }
   ],
   "source": [
    "x"
   ]
  },
  {
   "cell_type": "code",
   "execution_count": 40,
   "id": "172eeac7",
   "metadata": {},
   "outputs": [
    {
     "data": {
      "text/plain": [
       "0        0\n",
       "1        0\n",
       "2        0\n",
       "3        0\n",
       "4        0\n",
       "        ..\n",
       "14756    0\n",
       "14757    1\n",
       "14758    0\n",
       "14759    0\n",
       "14760    0\n",
       "Name: TARGET, Length: 14761, dtype: int64"
      ]
     },
     "execution_count": 40,
     "metadata": {},
     "output_type": "execute_result"
    }
   ],
   "source": [
    "y"
   ]
  },
  {
   "cell_type": "code",
   "execution_count": 41,
   "id": "0a007cea",
   "metadata": {},
   "outputs": [],
   "source": [
    "#label encoding\n",
    "from sklearn.preprocessing import LabelEncoder"
   ]
  },
  {
   "cell_type": "code",
   "execution_count": 42,
   "id": "ada52df6",
   "metadata": {},
   "outputs": [],
   "source": [
    "label_encoder_y = LabelEncoder()\n",
    "y = label_encoder_y.fit_transform(y)"
   ]
  },
  {
   "cell_type": "code",
   "execution_count": 43,
   "id": "58813367",
   "metadata": {},
   "outputs": [
    {
     "data": {
      "text/plain": [
       "array([0, 0, 0, ..., 0, 0, 0], dtype=int32)"
      ]
     },
     "execution_count": 43,
     "metadata": {},
     "output_type": "execute_result"
    }
   ],
   "source": [
    "y"
   ]
  },
  {
   "cell_type": "markdown",
   "id": "2e2d7246",
   "metadata": {},
   "source": [
    "# Handling missing values"
   ]
  },
  {
   "cell_type": "code",
   "execution_count": 44,
   "id": "aea6bc3a",
   "metadata": {},
   "outputs": [
    {
     "data": {
      "text/plain": [
       "TARGET                0\n",
       "CONTRACT_TYPE         0\n",
       "GENDER                0\n",
       "NUM_CHILDREN          0\n",
       "INCOME                0\n",
       "APPROVED_CREDIT       0\n",
       "ANNUITY               0\n",
       "PRICE                20\n",
       "INCOME_TYPE           0\n",
       "EDUCATION             0\n",
       "FAMILY_STATUS         0\n",
       "HOUSING_TYPE          0\n",
       "EXT_SCORE_1        8312\n",
       "EXT_SCORE_2          19\n",
       "EXT_SCORE_3        2919\n",
       "dtype: int64"
      ]
     },
     "execution_count": 44,
     "metadata": {},
     "output_type": "execute_result"
    }
   ],
   "source": [
    "#checking missing value\n",
    "data.isnull().sum()"
   ]
  },
  {
   "cell_type": "code",
   "execution_count": 45,
   "id": "dce737b9",
   "metadata": {},
   "outputs": [
    {
     "data": {
      "text/plain": [
       "TARGET             0\n",
       "CONTRACT_TYPE      0\n",
       "GENDER             0\n",
       "NUM_CHILDREN       0\n",
       "INCOME             0\n",
       "APPROVED_CREDIT    0\n",
       "ANNUITY            0\n",
       "PRICE              0\n",
       "INCOME_TYPE        0\n",
       "EDUCATION          0\n",
       "FAMILY_STATUS      0\n",
       "HOUSING_TYPE       0\n",
       "EXT_SCORE_1        0\n",
       "EXT_SCORE_2        0\n",
       "EXT_SCORE_3        0\n",
       "dtype: int64"
      ]
     },
     "execution_count": 45,
     "metadata": {},
     "output_type": "execute_result"
    }
   ],
   "source": [
    "data = data.dropna()\n",
    "data.isnull().sum()"
   ]
  },
  {
   "cell_type": "code",
   "execution_count": null,
   "id": "dc564bc7",
   "metadata": {},
   "outputs": [],
   "source": []
  },
  {
   "cell_type": "code",
   "execution_count": 46,
   "id": "e22ab1b4",
   "metadata": {},
   "outputs": [],
   "source": [
    "#CEK OUTLIER"
   ]
  },
  {
   "cell_type": "code",
   "execution_count": 47,
   "id": "30affb97",
   "metadata": {},
   "outputs": [
    {
     "data": {
      "text/plain": [
       "<AxesSubplot:xlabel='NUM_CHILDREN'>"
      ]
     },
     "execution_count": 47,
     "metadata": {},
     "output_type": "execute_result"
    },
    {
     "data": {
      "image/png": "[encoded data removed]",
      "text/plain": [
       "<Figure size 432x288 with 1 Axes>"
      ]
     },
     "metadata": {
      "needs_background": "light"
     },
     "output_type": "display_data"
    }
   ],
   "source": [
    "sns.boxplot(data=data, x='NUM_CHILDREN', color = 'silver')"
   ]
  },
  {
   "cell_type": "code",
   "execution_count": null,
   "id": "896d0709",
   "metadata": {},
   "outputs": [],
   "source": []
  },
  {
   "cell_type": "code",
   "execution_count": 47,
   "id": "f6e235ea",
   "metadata": {},
   "outputs": [
    {
     "data": {
      "text/plain": [
       "<AxesSubplot:>"
      ]
     },
     "execution_count": 47,
     "metadata": {},
     "output_type": "execute_result"
    },
    {
     "data": {
      "image/png": "[encoded data removed]",
      "text/plain": [
       "<Figure size 432x432 with 1 Axes>"
      ]
     },
     "metadata": {
      "needs_background": "light"
     },
     "output_type": "display_data"
    }
   ],
   "source": [
    "# create a boxplot to know more data shape\n",
    "data.boxplot(column='NUM_CHILDREN', fontsize=10, rot=0, grid=False, figsize=(6,6))"
   ]
  },
  {
   "cell_type": "code",
   "execution_count": 48,
   "id": "7c3b4bbf",
   "metadata": {},
   "outputs": [
    {
     "name": "stdout",
     "output_type": "stream",
     "text": [
      "Q1:\n",
      " 0.0\n",
      "\n",
      "Q3:\n",
      " 1.0\n",
      "\n",
      "IQR:\n",
      " 1.0\n",
      "\n",
      "Min:\n",
      " -1.5\n",
      "\n",
      "Max:\n",
      " 2.5\n"
     ]
    }
   ],
   "source": [
    "# calculate IQR to get specific number of outlier\n",
    "Q1 = data['NUM_CHILDREN'].quantile(0.25)\n",
    "Q3 = data['NUM_CHILDREN'].quantile(0.75)\n",
    "\n",
    "IQR= Q3-Q1\n",
    "boxplot_min = Q1 - 1.5 * IQR\n",
    "boxplot_max = Q3 + 1.5 * IQR\n",
    "print('Q1:\\n',Q1)\n",
    "print('\\nQ3:\\n',Q3)\n",
    "print('\\nIQR:\\n',IQR)\n",
    "print('\\nMin:\\n',boxplot_min)\n",
    "print('\\nMax:\\n',boxplot_max)"
   ]
  },
  {
   "cell_type": "code",
   "execution_count": 49,
   "id": "59d3c728",
   "metadata": {},
   "outputs": [],
   "source": [
    "a = Q3 + (1.5 * IQR)"
   ]
  },
  {
   "cell_type": "code",
   "execution_count": 50,
   "id": "efca58d7",
   "metadata": {},
   "outputs": [],
   "source": [
    "data.NUM_CHILDREN.loc[data[\"NUM_CHILDREN\"]>=a]=np.median(data[\"NUM_CHILDREN\"])"
   ]
  },
  {
   "cell_type": "code",
   "execution_count": 155,
   "id": "e061772b",
   "metadata": {},
   "outputs": [
    {
     "data": {
      "text/plain": [
       "<AxesSubplot:>"
      ]
     },
     "execution_count": 155,
     "metadata": {},
     "output_type": "execute_result"
    },
    {
     "data": {
      "image/png": "[encoded data removed]",
      "text/plain": [
       "<Figure size 432x288 with 1 Axes>"
      ]
     },
     "metadata": {
      "needs_background": "light"
     },
     "output_type": "display_data"
    }
   ],
   "source": [
    "data.boxplot('NUM_CHILDREN')"
   ]
  },
  {
   "cell_type": "code",
   "execution_count": 51,
   "id": "00b8879a",
   "metadata": {},
   "outputs": [
    {
     "data": {
      "text/plain": [
       "<AxesSubplot:xlabel='NUM_CHILDREN'>"
      ]
     },
     "execution_count": 51,
     "metadata": {},
     "output_type": "execute_result"
    },
    {
     "data": {
      "image/png": "[encoded data removed]",
      "text/plain": [
       "<Figure size 432x288 with 1 Axes>"
      ]
     },
     "metadata": {
      "needs_background": "light"
     },
     "output_type": "display_data"
    }
   ],
   "source": [
    "sns.boxplot(data=data, x='NUM_CHILDREN', color = 'pink')"
   ]
  },
  {
   "cell_type": "code",
   "execution_count": 156,
   "id": "1fb021c5",
   "metadata": {},
   "outputs": [
    {
     "data": {
      "text/plain": [
       "<AxesSubplot:>"
      ]
     },
     "execution_count": 156,
     "metadata": {},
     "output_type": "execute_result"
    },
    {
     "data": {
      "image/png": "[encoded data removed]",
      "text/plain": [
       "<Figure size 432x432 with 1 Axes>"
      ]
     },
     "metadata": {
      "needs_background": "light"
     },
     "output_type": "display_data"
    }
   ],
   "source": [
    "data.boxplot(column='INCOME', fontsize=10, rot=0, grid=False, figsize=(6,6))"
   ]
  },
  {
   "cell_type": "code",
   "execution_count": 52,
   "id": "60af185c",
   "metadata": {},
   "outputs": [
    {
     "data": {
      "text/plain": [
       "<AxesSubplot:xlabel='INCOME'>"
      ]
     },
     "execution_count": 52,
     "metadata": {},
     "output_type": "execute_result"
    },
    {
     "data": {
      "image/png": "[encoded data removed]",
      "text/plain": [
       "<Figure size 432x288 with 1 Axes>"
      ]
     },
     "metadata": {
      "needs_background": "light"
     },
     "output_type": "display_data"
    }
   ],
   "source": [
    "sns.boxplot(data=data, x='INCOME', color = 'silver')"
   ]
  },
  {
   "cell_type": "code",
   "execution_count": 56,
   "id": "3457c66c",
   "metadata": {},
   "outputs": [
    {
     "name": "stdout",
     "output_type": "stream",
     "text": [
      "Q1:\n",
      " 112500.0\n",
      "\n",
      "Q3:\n",
      " 202500.0\n",
      "\n",
      "IQR:\n",
      " 90000.0\n",
      "\n",
      "Min:\n",
      " -22500.0\n",
      "\n",
      "Max:\n",
      " 337500.0\n"
     ]
    }
   ],
   "source": [
    "Q1 = data['INCOME'].quantile(0.25)\n",
    "Q3 = data['INCOME'].quantile(0.75)\n",
    "\n",
    "IQR= Q3-Q1\n",
    "boxplot_min = Q1 - 1.5 * IQR\n",
    "boxplot_max = Q3 + 1.5 * IQR\n",
    "print('Q1:\\n',Q1)\n",
    "print('\\nQ3:\\n',Q3)\n",
    "print('\\nIQR:\\n',IQR)\n",
    "print('\\nMin:\\n',boxplot_min)\n",
    "print('\\nMax:\\n',boxplot_max)"
   ]
  },
  {
   "cell_type": "code",
   "execution_count": 57,
   "id": "fd55dcd7",
   "metadata": {},
   "outputs": [],
   "source": [
    "a = Q3 + (1.5 * IQR)\n",
    "data.INCOME.loc[data[\"INCOME\"]>=a]=np.median(data[\"INCOME\"])"
   ]
  },
  {
   "cell_type": "code",
   "execution_count": 58,
   "id": "6ba8a6ba",
   "metadata": {},
   "outputs": [
    {
     "data": {
      "text/plain": [
       "<AxesSubplot:xlabel='INCOME'>"
      ]
     },
     "execution_count": 58,
     "metadata": {},
     "output_type": "execute_result"
    },
    {
     "data": {
      "image/png": "[encoded data removed]",
      "text/plain": [
       "<Figure size 432x288 with 1 Axes>"
      ]
     },
     "metadata": {
      "needs_background": "light"
     },
     "output_type": "display_data"
    }
   ],
   "source": [
    "sns.boxplot(data=data, x='INCOME', color = 'pink')"
   ]
  },
  {
   "cell_type": "code",
   "execution_count": 159,
   "id": "f3e2db56",
   "metadata": {},
   "outputs": [
    {
     "data": {
      "text/plain": [
       "<AxesSubplot:>"
      ]
     },
     "execution_count": 159,
     "metadata": {},
     "output_type": "execute_result"
    },
    {
     "data": {
      "image/png": "[encoded data removed]",
      "text/plain": [
       "<Figure size 432x288 with 1 Axes>"
      ]
     },
     "metadata": {
      "needs_background": "light"
     },
     "output_type": "display_data"
    }
   ],
   "source": [
    "data.boxplot('INCOME')"
   ]
  },
  {
   "cell_type": "code",
   "execution_count": 59,
   "id": "27bbde52",
   "metadata": {},
   "outputs": [
    {
     "data": {
      "text/plain": [
       "<AxesSubplot:xlabel='APPROVED_CREDIT'>"
      ]
     },
     "execution_count": 59,
     "metadata": {},
     "output_type": "execute_result"
    },
    {
     "data": {
      "image/png": "[encoded data removed]",
      "text/plain": [
       "<Figure size 432x288 with 1 Axes>"
      ]
     },
     "metadata": {
      "needs_background": "light"
     },
     "output_type": "display_data"
    }
   ],
   "source": [
    "sns.boxplot(data=data, x='APPROVED_CREDIT', color = 'silver')"
   ]
  },
  {
   "cell_type": "code",
   "execution_count": 160,
   "id": "c9f28437",
   "metadata": {},
   "outputs": [
    {
     "data": {
      "text/plain": [
       "<AxesSubplot:>"
      ]
     },
     "execution_count": 160,
     "metadata": {},
     "output_type": "execute_result"
    },
    {
     "data": {
      "image/png": "[encoded data removed]",
      "text/plain": [
       "<Figure size 432x288 with 1 Axes>"
      ]
     },
     "metadata": {
      "needs_background": "light"
     },
     "output_type": "display_data"
    }
   ],
   "source": [
    "data.boxplot('APPROVED_CREDIT')"
   ]
  },
  {
   "cell_type": "code",
   "execution_count": 66,
   "id": "92556f0e",
   "metadata": {},
   "outputs": [
    {
     "name": "stdout",
     "output_type": "stream",
     "text": [
      "Q1:\n",
      " 284400.0\n",
      "\n",
      "Q3:\n",
      " 781920.0\n",
      "\n",
      "IQR:\n",
      " 497520.0\n",
      "\n",
      "Min:\n",
      " -461880.0\n",
      "\n",
      "Max:\n",
      " 1528200.0\n"
     ]
    }
   ],
   "source": [
    "Q1 = data['APPROVED_CREDIT'].quantile(0.25)\n",
    "Q3 = data['APPROVED_CREDIT'].quantile(0.75)\n",
    "\n",
    "IQR= Q3-Q1\n",
    "boxplot_min = Q1 - 1.5 * IQR\n",
    "boxplot_max = Q3 + 1.5 * IQR\n",
    "print('Q1:\\n',Q1)\n",
    "print('\\nQ3:\\n',Q3)\n",
    "print('\\nIQR:\\n',IQR)\n",
    "print('\\nMin:\\n',boxplot_min)\n",
    "print('\\nMax:\\n',boxplot_max)"
   ]
  },
  {
   "cell_type": "code",
   "execution_count": 67,
   "id": "a1063fd5",
   "metadata": {},
   "outputs": [],
   "source": [
    "a = Q3 + (1.5 * IQR)\n",
    "data.APPROVED_CREDIT.loc[data[\"APPROVED_CREDIT\"]>=a]=np.median(data[\"APPROVED_CREDIT\"])"
   ]
  },
  {
   "cell_type": "code",
   "execution_count": 68,
   "id": "cbd8e589",
   "metadata": {},
   "outputs": [
    {
     "data": {
      "text/plain": [
       "<AxesSubplot:xlabel='APPROVED_CREDIT'>"
      ]
     },
     "execution_count": 68,
     "metadata": {},
     "output_type": "execute_result"
    },
    {
     "data": {
      "image/png": "[encoded data removed]",
      "text/plain": [
       "<Figure size 432x288 with 1 Axes>"
      ]
     },
     "metadata": {
      "needs_background": "light"
     },
     "output_type": "display_data"
    }
   ],
   "source": [
    "sns.boxplot(data=data, x='APPROVED_CREDIT', color = 'pink')"
   ]
  },
  {
   "cell_type": "code",
   "execution_count": 163,
   "id": "d3f8ce7e",
   "metadata": {},
   "outputs": [
    {
     "data": {
      "text/plain": [
       "<AxesSubplot:>"
      ]
     },
     "execution_count": 163,
     "metadata": {},
     "output_type": "execute_result"
    },
    {
     "data": {
      "image/png": "[encoded data removed]",
      "text/plain": [
       "<Figure size 432x288 with 1 Axes>"
      ]
     },
     "metadata": {
      "needs_background": "light"
     },
     "output_type": "display_data"
    }
   ],
   "source": [
    "data.boxplot('APPROVED_CREDIT')"
   ]
  },
  {
   "cell_type": "code",
   "execution_count": null,
   "id": "522e2cbd",
   "metadata": {},
   "outputs": [],
   "source": []
  },
  {
   "cell_type": "code",
   "execution_count": 69,
   "id": "c4e7a338",
   "metadata": {},
   "outputs": [
    {
     "data": {
      "text/plain": [
       "<AxesSubplot:xlabel='ANNUITY'>"
      ]
     },
     "execution_count": 69,
     "metadata": {},
     "output_type": "execute_result"
    },
    {
     "data": {
      "image/png": "[encoded data removed]",
      "text/plain": [
       "<Figure size 432x288 with 1 Axes>"
      ]
     },
     "metadata": {
      "needs_background": "light"
     },
     "output_type": "display_data"
    }
   ],
   "source": [
    "sns.boxplot(data=data, x='ANNUITY', color='silver')"
   ]
  },
  {
   "cell_type": "code",
   "execution_count": 164,
   "id": "330ae9f4",
   "metadata": {},
   "outputs": [
    {
     "data": {
      "text/plain": [
       "<AxesSubplot:>"
      ]
     },
     "execution_count": 164,
     "metadata": {},
     "output_type": "execute_result"
    },
    {
     "data": {
      "image/png": "[encoded data removed]",
      "text/plain": [
       "<Figure size 432x288 with 1 Axes>"
      ]
     },
     "metadata": {
      "needs_background": "light"
     },
     "output_type": "display_data"
    }
   ],
   "source": [
    "data.boxplot('ANNUITY')"
   ]
  },
  {
   "cell_type": "code",
   "execution_count": 82,
   "id": "e8606482",
   "metadata": {},
   "outputs": [
    {
     "name": "stdout",
     "output_type": "stream",
     "text": [
      "Q1:\n",
      " 17167.5\n",
      "\n",
      "Q3:\n",
      " 34247.25\n",
      "\n",
      "IQR:\n",
      " 17079.75\n",
      "\n",
      "Min:\n",
      " -8452.125\n",
      "\n",
      "Max:\n",
      " 59866.875\n"
     ]
    }
   ],
   "source": [
    "Q1 = data['ANNUITY'].quantile(0.25)\n",
    "Q3 = data['ANNUITY'].quantile(0.75)\n",
    "\n",
    "IQR= Q3-Q1\n",
    "boxplot_min = Q1 - 1.5 * IQR\n",
    "boxplot_max = Q3 + 1.5 * IQR\n",
    "print('Q1:\\n',Q1)\n",
    "print('\\nQ3:\\n',Q3)\n",
    "print('\\nIQR:\\n',IQR)\n",
    "print('\\nMin:\\n',boxplot_min)\n",
    "print('\\nMax:\\n',boxplot_max)"
   ]
  },
  {
   "cell_type": "code",
   "execution_count": 83,
   "id": "59bb4f67",
   "metadata": {},
   "outputs": [],
   "source": [
    "a = Q3 + (1.5 * IQR)\n",
    "data.ANNUITY.loc[data[\"ANNUITY\"]>=a]=np.median(data[\"ANNUITY\"])"
   ]
  },
  {
   "cell_type": "code",
   "execution_count": 84,
   "id": "f4fd563f",
   "metadata": {},
   "outputs": [
    {
     "data": {
      "text/plain": [
       "<AxesSubplot:xlabel='ANNUITY'>"
      ]
     },
     "execution_count": 84,
     "metadata": {},
     "output_type": "execute_result"
    },
    {
     "data": {
      "image/png": "[encoded data removed]",
      "text/plain": [
       "<Figure size 432x288 with 1 Axes>"
      ]
     },
     "metadata": {
      "needs_background": "light"
     },
     "output_type": "display_data"
    }
   ],
   "source": [
    "sns.boxplot(data=data, x='ANNUITY', color='pink')"
   ]
  },
  {
   "cell_type": "code",
   "execution_count": 169,
   "id": "1f2fc99e",
   "metadata": {},
   "outputs": [
    {
     "data": {
      "text/plain": [
       "<AxesSubplot:>"
      ]
     },
     "execution_count": 169,
     "metadata": {},
     "output_type": "execute_result"
    },
    {
     "data": {
      "image/png": "[encoded data removed]",
      "text/plain": [
       "<Figure size 432x288 with 1 Axes>"
      ]
     },
     "metadata": {
      "needs_background": "light"
     },
     "output_type": "display_data"
    }
   ],
   "source": [
    "data.boxplot('ANNUITY')"
   ]
  },
  {
   "cell_type": "code",
   "execution_count": null,
   "id": "ebb39881",
   "metadata": {},
   "outputs": [],
   "source": []
  },
  {
   "cell_type": "code",
   "execution_count": 85,
   "id": "df3038fa",
   "metadata": {},
   "outputs": [
    {
     "data": {
      "text/plain": [
       "<AxesSubplot:xlabel='PRICE'>"
      ]
     },
     "execution_count": 85,
     "metadata": {},
     "output_type": "execute_result"
    },
    {
     "data": {
      "image/png": "[encoded data removed]",
      "text/plain": [
       "<Figure size 432x288 with 1 Axes>"
      ]
     },
     "metadata": {
      "needs_background": "light"
     },
     "output_type": "display_data"
    }
   ],
   "source": [
    "sns.boxplot(data=data, x='PRICE', color='silver')"
   ]
  },
  {
   "cell_type": "code",
   "execution_count": 170,
   "id": "a9a8af0c",
   "metadata": {},
   "outputs": [
    {
     "data": {
      "text/plain": [
       "<AxesSubplot:>"
      ]
     },
     "execution_count": 170,
     "metadata": {},
     "output_type": "execute_result"
    },
    {
     "data": {
      "image/png": "[encoded data removed]",
      "text/plain": [
       "<Figure size 432x288 with 1 Axes>"
      ]
     },
     "metadata": {
      "needs_background": "light"
     },
     "output_type": "display_data"
    }
   ],
   "source": [
    "data.boxplot('PRICE')"
   ]
  },
  {
   "cell_type": "code",
   "execution_count": 89,
   "id": "1e92b928",
   "metadata": {
    "scrolled": true
   },
   "outputs": [
    {
     "name": "stdout",
     "output_type": "stream",
     "text": [
      "Q1:\n",
      " 252000.0\n",
      "\n",
      "Q3:\n",
      " 675000.0\n",
      "\n",
      "IQR:\n",
      " 423000.0\n",
      "\n",
      "Min:\n",
      " -382500.0\n",
      "\n",
      "Max:\n",
      " 1309500.0\n"
     ]
    }
   ],
   "source": [
    "Q1 = data['PRICE'].quantile(0.25)\n",
    "Q3 = data['PRICE'].quantile(0.75)\n",
    "\n",
    "IQR= Q3-Q1\n",
    "boxplot_min = Q1 - 1.5 * IQR\n",
    "boxplot_max = Q3 + 1.5 * IQR\n",
    "print('Q1:\\n',Q1)\n",
    "print('\\nQ3:\\n',Q3)\n",
    "print('\\nIQR:\\n',IQR)\n",
    "print('\\nMin:\\n',boxplot_min)\n",
    "print('\\nMax:\\n',boxplot_max)"
   ]
  },
  {
   "cell_type": "code",
   "execution_count": 90,
   "id": "102e38ce",
   "metadata": {},
   "outputs": [],
   "source": [
    "a = Q3 + (1.5 * IQR)\n",
    "data.PRICE.loc[data[\"PRICE\"]>=a]=np.median(data[\"PRICE\"])"
   ]
  },
  {
   "cell_type": "code",
   "execution_count": 91,
   "id": "7cdc6378",
   "metadata": {},
   "outputs": [
    {
     "data": {
      "text/plain": [
       "<AxesSubplot:xlabel='PRICE'>"
      ]
     },
     "execution_count": 91,
     "metadata": {},
     "output_type": "execute_result"
    },
    {
     "data": {
      "image/png": "[encoded data removed]",
      "text/plain": [
       "<Figure size 432x288 with 1 Axes>"
      ]
     },
     "metadata": {
      "needs_background": "light"
     },
     "output_type": "display_data"
    }
   ],
   "source": [
    "sns.boxplot(data=data, x='PRICE', color='pink')"
   ]
  },
  {
   "cell_type": "code",
   "execution_count": 173,
   "id": "131820e0",
   "metadata": {},
   "outputs": [
    {
     "data": {
      "text/plain": [
       "<AxesSubplot:>"
      ]
     },
     "execution_count": 173,
     "metadata": {},
     "output_type": "execute_result"
    },
    {
     "data": {
      "image/png": "[encoded data removed]",
      "text/plain": [
       "<Figure size 432x288 with 1 Axes>"
      ]
     },
     "metadata": {
      "needs_background": "light"
     },
     "output_type": "display_data"
    }
   ],
   "source": [
    "data.boxplot('PRICE')"
   ]
  },
  {
   "cell_type": "code",
   "execution_count": null,
   "id": "2c1b51fc",
   "metadata": {},
   "outputs": [],
   "source": []
  },
  {
   "cell_type": "code",
   "execution_count": null,
   "id": "c21eb3a4",
   "metadata": {},
   "outputs": [],
   "source": []
  },
  {
   "cell_type": "code",
   "execution_count": 93,
   "id": "3318c2a0",
   "metadata": {},
   "outputs": [
    {
     "data": {
      "text/plain": [
       "['TARGET',\n",
       " 'NUM_CHILDREN',\n",
       " 'INCOME',\n",
       " 'APPROVED_CREDIT',\n",
       " 'ANNUITY',\n",
       " 'PRICE',\n",
       " 'EXT_SCORE_1',\n",
       " 'EXT_SCORE_2',\n",
       " 'EXT_SCORE_3']"
      ]
     },
     "execution_count": 93,
     "metadata": {},
     "output_type": "execute_result"
    }
   ],
   "source": [
    "numerical"
   ]
  },
  {
   "cell_type": "code",
   "execution_count": null,
   "id": "90758de9",
   "metadata": {},
   "outputs": [],
   "source": []
  },
  {
   "cell_type": "code",
   "execution_count": 94,
   "id": "70cff7b1",
   "metadata": {},
   "outputs": [
    {
     "data": {
      "text/plain": [
       "<AxesSubplot:xlabel='EXT_SCORE_1'>"
      ]
     },
     "execution_count": 94,
     "metadata": {},
     "output_type": "execute_result"
    },
    {
     "data": {
      "image/png": "[encoded data removed]",
      "text/plain": [
       "<Figure size 432x288 with 1 Axes>"
      ]
     },
     "metadata": {
      "needs_background": "light"
     },
     "output_type": "display_data"
    }
   ],
   "source": [
    "sns.boxplot(data=data, x='EXT_SCORE_1', color='silver')"
   ]
  },
  {
   "cell_type": "code",
   "execution_count": 192,
   "id": "08ab8849",
   "metadata": {},
   "outputs": [
    {
     "data": {
      "text/plain": [
       "<AxesSubplot:>"
      ]
     },
     "execution_count": 192,
     "metadata": {},
     "output_type": "execute_result"
    },
    {
     "data": {
      "image/png": "[encoded data removed]",
      "text/plain": [
       "<Figure size 432x288 with 1 Axes>"
      ]
     },
     "metadata": {
      "needs_background": "light"
     },
     "output_type": "display_data"
    }
   ],
   "source": [
    "data.boxplot('EXT_SCORE_1')"
   ]
  },
  {
   "cell_type": "code",
   "execution_count": 95,
   "id": "fe4021c2",
   "metadata": {},
   "outputs": [
    {
     "data": {
      "text/plain": [
       "<AxesSubplot:xlabel='EXT_SCORE_2'>"
      ]
     },
     "execution_count": 95,
     "metadata": {},
     "output_type": "execute_result"
    },
    {
     "data": {
      "image/png": "[encoded data removed]",
      "text/plain": [
       "<Figure size 432x288 with 1 Axes>"
      ]
     },
     "metadata": {
      "needs_background": "light"
     },
     "output_type": "display_data"
    }
   ],
   "source": [
    "sns.boxplot(data=data, x='EXT_SCORE_2', color='silver')"
   ]
  },
  {
   "cell_type": "code",
   "execution_count": 99,
   "id": "fb201c15",
   "metadata": {},
   "outputs": [
    {
     "name": "stdout",
     "output_type": "stream",
     "text": [
      "Q1:\n",
      " 0.4321872652525738\n",
      "\n",
      "Q3:\n",
      " 0.667807019538251\n",
      "\n",
      "IQR:\n",
      " 0.23561975428567716\n",
      "\n",
      "Min:\n",
      " 0.07875763382405804\n",
      "\n",
      "Max:\n",
      " 1.0212366509667667\n"
     ]
    }
   ],
   "source": [
    "Q1 = data['EXT_SCORE_2'].quantile(0.25)\n",
    "Q3 = data['EXT_SCORE_2'].quantile(0.75)\n",
    "\n",
    "IQR= Q3-Q1\n",
    "boxplot_min = Q1 - 1.5 * IQR\n",
    "boxplot_max = Q3 + 1.5 * IQR\n",
    "print('Q1:\\n',Q1)\n",
    "print('\\nQ3:\\n',Q3)\n",
    "print('\\nIQR:\\n',IQR)\n",
    "print('\\nMin:\\n',boxplot_min)\n",
    "print('\\nMax:\\n',boxplot_max)"
   ]
  },
  {
   "cell_type": "code",
   "execution_count": 100,
   "id": "d2d0b33f",
   "metadata": {},
   "outputs": [],
   "source": [
    "a = Q3 + (1.5 * IQR)\n",
    "data.EXT_SCORE_2.loc[data[\"EXT_SCORE_2\"]>=a]=np.median(data[\"EXT_SCORE_2\"])"
   ]
  },
  {
   "cell_type": "code",
   "execution_count": 101,
   "id": "d395e770",
   "metadata": {},
   "outputs": [
    {
     "data": {
      "text/plain": [
       "<AxesSubplot:xlabel='EXT_SCORE_2'>"
      ]
     },
     "execution_count": 101,
     "metadata": {},
     "output_type": "execute_result"
    },
    {
     "data": {
      "image/png": "[encoded data removed]",
      "text/plain": [
       "<Figure size 432x288 with 1 Axes>"
      ]
     },
     "metadata": {
      "needs_background": "light"
     },
     "output_type": "display_data"
    }
   ],
   "source": [
    "sns.boxplot(data=data, x='EXT_SCORE_2', color='pink')"
   ]
  },
  {
   "cell_type": "code",
   "execution_count": 102,
   "id": "4d0f69ca",
   "metadata": {},
   "outputs": [
    {
     "data": {
      "text/plain": [
       "<AxesSubplot:xlabel='EXT_SCORE_3'>"
      ]
     },
     "execution_count": 102,
     "metadata": {},
     "output_type": "execute_result"
    },
    {
     "data": {
      "image/png": "[encoded data removed]",
      "text/plain": [
       "<Figure size 432x288 with 1 Axes>"
      ]
     },
     "metadata": {
      "needs_background": "light"
     },
     "output_type": "display_data"
    }
   ],
   "source": [
    "sns.boxplot(data=data, x='EXT_SCORE_3', color='brown')"
   ]
  },
  {
   "cell_type": "code",
   "execution_count": 103,
   "id": "7713fe69",
   "metadata": {},
   "outputs": [
    {
     "data": {
      "text/plain": [
       "<AxesSubplot:>"
      ]
     },
     "execution_count": 103,
     "metadata": {},
     "output_type": "execute_result"
    },
    {
     "data": {
      "image/png": "[encoded data removed]",
      "text/plain": [
       "<Figure size 432x288 with 1 Axes>"
      ]
     },
     "metadata": {
      "needs_background": "light"
     },
     "output_type": "display_data"
    }
   ],
   "source": [
    "data.boxplot('EXT_SCORE_3')"
   ]
  },
  {
   "cell_type": "code",
   "execution_count": 104,
   "id": "5bbbcc19",
   "metadata": {},
   "outputs": [],
   "source": [
    "x = data.iloc[ :, 1:15]\n",
    "y = data['TARGET']"
   ]
  },
  {
   "cell_type": "code",
   "execution_count": 105,
   "id": "5489e5c0",
   "metadata": {},
   "outputs": [
    {
     "data": {
      "text/html": [
       "<div>\n",
       "<style scoped>\n",
       "    .dataframe tbody tr th:only-of-type {\n",
       "        vertical-align: middle;\n",
       "    }\n",
       "\n",
       "    .dataframe tbody tr th {\n",
       "        vertical-align: top;\n",
       "    }\n",
       "\n",
       "    .dataframe thead th {\n",
       "        text-align: right;\n",
       "    }\n",
       "</style>\n",
       "<table border=\"1\" class=\"dataframe\">\n",
       "  <thead>\n",
       "    <tr style=\"text-align: right;\">\n",
       "      <th></th>\n",
       "      <th>CONTRACT_TYPE</th>\n",
       "      <th>GENDER</th>\n",
       "      <th>NUM_CHILDREN</th>\n",
       "      <th>INCOME</th>\n",
       "      <th>APPROVED_CREDIT</th>\n",
       "      <th>ANNUITY</th>\n",
       "      <th>PRICE</th>\n",
       "      <th>INCOME_TYPE</th>\n",
       "      <th>EDUCATION</th>\n",
       "      <th>FAMILY_STATUS</th>\n",
       "      <th>HOUSING_TYPE</th>\n",
       "      <th>EXT_SCORE_1</th>\n",
       "      <th>EXT_SCORE_2</th>\n",
       "      <th>EXT_SCORE_3</th>\n",
       "    </tr>\n",
       "  </thead>\n",
       "  <tbody>\n",
       "    <tr>\n",
       "      <th>2</th>\n",
       "      <td>Cash loans</td>\n",
       "      <td>F</td>\n",
       "      <td>1</td>\n",
       "      <td>90000.0</td>\n",
       "      <td>247500.0</td>\n",
       "      <td>8887.5</td>\n",
       "      <td>247500.0</td>\n",
       "      <td>Working</td>\n",
       "      <td>Secondary / secondary special</td>\n",
       "      <td>Married</td>\n",
       "      <td>House / apartment</td>\n",
       "      <td>0.814700</td>\n",
       "      <td>0.686312</td>\n",
       "      <td>0.758393</td>\n",
       "    </tr>\n",
       "    <tr>\n",
       "      <th>3</th>\n",
       "      <td>Cash loans</td>\n",
       "      <td>M</td>\n",
       "      <td>2</td>\n",
       "      <td>112500.0</td>\n",
       "      <td>506889.0</td>\n",
       "      <td>24781.5</td>\n",
       "      <td>418500.0</td>\n",
       "      <td>Working</td>\n",
       "      <td>Secondary / secondary special</td>\n",
       "      <td>Married</td>\n",
       "      <td>House / apartment</td>\n",
       "      <td>0.399219</td>\n",
       "      <td>0.266520</td>\n",
       "      <td>0.058826</td>\n",
       "    </tr>\n",
       "    <tr>\n",
       "      <th>4</th>\n",
       "      <td>Cash loans</td>\n",
       "      <td>M</td>\n",
       "      <td>0</td>\n",
       "      <td>216000.0</td>\n",
       "      <td>450000.0</td>\n",
       "      <td>21888.0</td>\n",
       "      <td>450000.0</td>\n",
       "      <td>Working</td>\n",
       "      <td>Incomplete higher</td>\n",
       "      <td>Married</td>\n",
       "      <td>House / apartment</td>\n",
       "      <td>0.368452</td>\n",
       "      <td>0.610483</td>\n",
       "      <td>0.392774</td>\n",
       "    </tr>\n",
       "    <tr>\n",
       "      <th>5</th>\n",
       "      <td>Cash loans</td>\n",
       "      <td>F</td>\n",
       "      <td>0</td>\n",
       "      <td>58500.0</td>\n",
       "      <td>135000.0</td>\n",
       "      <td>7321.5</td>\n",
       "      <td>135000.0</td>\n",
       "      <td>Working</td>\n",
       "      <td>Secondary / secondary special</td>\n",
       "      <td>Single / not married</td>\n",
       "      <td>With parents</td>\n",
       "      <td>0.501097</td>\n",
       "      <td>0.067371</td>\n",
       "      <td>0.199771</td>\n",
       "    </tr>\n",
       "    <tr>\n",
       "      <th>8</th>\n",
       "      <td>Cash loans</td>\n",
       "      <td>F</td>\n",
       "      <td>0</td>\n",
       "      <td>112500.0</td>\n",
       "      <td>665892.0</td>\n",
       "      <td>19210.5</td>\n",
       "      <td>477000.0</td>\n",
       "      <td>Pensioner</td>\n",
       "      <td>Secondary / secondary special</td>\n",
       "      <td>Married</td>\n",
       "      <td>House / apartment</td>\n",
       "      <td>0.699160</td>\n",
       "      <td>0.673492</td>\n",
       "      <td>0.510090</td>\n",
       "    </tr>\n",
       "    <tr>\n",
       "      <th>...</th>\n",
       "      <td>...</td>\n",
       "      <td>...</td>\n",
       "      <td>...</td>\n",
       "      <td>...</td>\n",
       "      <td>...</td>\n",
       "      <td>...</td>\n",
       "      <td>...</td>\n",
       "      <td>...</td>\n",
       "      <td>...</td>\n",
       "      <td>...</td>\n",
       "      <td>...</td>\n",
       "      <td>...</td>\n",
       "      <td>...</td>\n",
       "      <td>...</td>\n",
       "    </tr>\n",
       "    <tr>\n",
       "      <th>14744</th>\n",
       "      <td>Cash loans</td>\n",
       "      <td>M</td>\n",
       "      <td>0</td>\n",
       "      <td>315000.0</td>\n",
       "      <td>225000.0</td>\n",
       "      <td>23755.5</td>\n",
       "      <td>225000.0</td>\n",
       "      <td>Commercial associate</td>\n",
       "      <td>Secondary / secondary special</td>\n",
       "      <td>Married</td>\n",
       "      <td>House / apartment</td>\n",
       "      <td>0.184000</td>\n",
       "      <td>0.470237</td>\n",
       "      <td>0.468660</td>\n",
       "    </tr>\n",
       "    <tr>\n",
       "      <th>14745</th>\n",
       "      <td>Cash loans</td>\n",
       "      <td>F</td>\n",
       "      <td>0</td>\n",
       "      <td>126000.0</td>\n",
       "      <td>263686.5</td>\n",
       "      <td>28525.5</td>\n",
       "      <td>238500.0</td>\n",
       "      <td>Commercial associate</td>\n",
       "      <td>Secondary / secondary special</td>\n",
       "      <td>Married</td>\n",
       "      <td>House / apartment</td>\n",
       "      <td>0.504087</td>\n",
       "      <td>0.551037</td>\n",
       "      <td>0.273565</td>\n",
       "    </tr>\n",
       "    <tr>\n",
       "      <th>14747</th>\n",
       "      <td>Revolving loans</td>\n",
       "      <td>M</td>\n",
       "      <td>0</td>\n",
       "      <td>157500.0</td>\n",
       "      <td>337500.0</td>\n",
       "      <td>16875.0</td>\n",
       "      <td>337500.0</td>\n",
       "      <td>Working</td>\n",
       "      <td>Higher education</td>\n",
       "      <td>Married</td>\n",
       "      <td>House / apartment</td>\n",
       "      <td>0.887527</td>\n",
       "      <td>0.727850</td>\n",
       "      <td>0.590233</td>\n",
       "    </tr>\n",
       "    <tr>\n",
       "      <th>14750</th>\n",
       "      <td>Revolving loans</td>\n",
       "      <td>F</td>\n",
       "      <td>0</td>\n",
       "      <td>45000.0</td>\n",
       "      <td>135000.0</td>\n",
       "      <td>6750.0</td>\n",
       "      <td>135000.0</td>\n",
       "      <td>Working</td>\n",
       "      <td>Higher education</td>\n",
       "      <td>Married</td>\n",
       "      <td>House / apartment</td>\n",
       "      <td>0.770063</td>\n",
       "      <td>0.583092</td>\n",
       "      <td>0.709189</td>\n",
       "    </tr>\n",
       "    <tr>\n",
       "      <th>14756</th>\n",
       "      <td>Cash loans</td>\n",
       "      <td>F</td>\n",
       "      <td>1</td>\n",
       "      <td>67500.0</td>\n",
       "      <td>112500.0</td>\n",
       "      <td>7317.0</td>\n",
       "      <td>112500.0</td>\n",
       "      <td>Working</td>\n",
       "      <td>Secondary / secondary special</td>\n",
       "      <td>Married</td>\n",
       "      <td>House / apartment</td>\n",
       "      <td>0.570305</td>\n",
       "      <td>0.399628</td>\n",
       "      <td>0.586740</td>\n",
       "    </tr>\n",
       "  </tbody>\n",
       "</table>\n",
       "<p>5286 rows × 14 columns</p>\n",
       "</div>"
      ],
      "text/plain": [
       "         CONTRACT_TYPE GENDER  NUM_CHILDREN    INCOME  APPROVED_CREDIT  \\\n",
       "2           Cash loans      F             1   90000.0         247500.0   \n",
       "3           Cash loans      M             2  112500.0         506889.0   \n",
       "4           Cash loans      M             0  216000.0         450000.0   \n",
       "5           Cash loans      F             0   58500.0         135000.0   \n",
       "8           Cash loans      F             0  112500.0         665892.0   \n",
       "...                ...    ...           ...       ...              ...   \n",
       "14744       Cash loans      M             0  315000.0         225000.0   \n",
       "14745       Cash loans      F             0  126000.0         263686.5   \n",
       "14747  Revolving loans      M             0  157500.0         337500.0   \n",
       "14750  Revolving loans      F             0   45000.0         135000.0   \n",
       "14756       Cash loans      F             1   67500.0         112500.0   \n",
       "\n",
       "       ANNUITY     PRICE           INCOME_TYPE                      EDUCATION  \\\n",
       "2       8887.5  247500.0               Working  Secondary / secondary special   \n",
       "3      24781.5  418500.0               Working  Secondary / secondary special   \n",
       "4      21888.0  450000.0               Working              Incomplete higher   \n",
       "5       7321.5  135000.0               Working  Secondary / secondary special   \n",
       "8      19210.5  477000.0             Pensioner  Secondary / secondary special   \n",
       "...        ...       ...                   ...                            ...   \n",
       "14744  23755.5  225000.0  Commercial associate  Secondary / secondary special   \n",
       "14745  28525.5  238500.0  Commercial associate  Secondary / secondary special   \n",
       "14747  16875.0  337500.0               Working               Higher education   \n",
       "14750   6750.0  135000.0               Working               Higher education   \n",
       "14756   7317.0  112500.0               Working  Secondary / secondary special   \n",
       "\n",
       "              FAMILY_STATUS       HOUSING_TYPE  EXT_SCORE_1  EXT_SCORE_2  \\\n",
       "2                   Married  House / apartment     0.814700     0.686312   \n",
       "3                   Married  House / apartment     0.399219     0.266520   \n",
       "4                   Married  House / apartment     0.368452     0.610483   \n",
       "5      Single / not married       With parents     0.501097     0.067371   \n",
       "8                   Married  House / apartment     0.699160     0.673492   \n",
       "...                     ...                ...          ...          ...   \n",
       "14744               Married  House / apartment     0.184000     0.470237   \n",
       "14745               Married  House / apartment     0.504087     0.551037   \n",
       "14747               Married  House / apartment     0.887527     0.727850   \n",
       "14750               Married  House / apartment     0.770063     0.583092   \n",
       "14756               Married  House / apartment     0.570305     0.399628   \n",
       "\n",
       "       EXT_SCORE_3  \n",
       "2         0.758393  \n",
       "3         0.058826  \n",
       "4         0.392774  \n",
       "5         0.199771  \n",
       "8         0.510090  \n",
       "...            ...  \n",
       "14744     0.468660  \n",
       "14745     0.273565  \n",
       "14747     0.590233  \n",
       "14750     0.709189  \n",
       "14756     0.586740  \n",
       "\n",
       "[5286 rows x 14 columns]"
      ]
     },
     "execution_count": 105,
     "metadata": {},
     "output_type": "execute_result"
    }
   ],
   "source": [
    "x"
   ]
  },
  {
   "cell_type": "code",
   "execution_count": 106,
   "id": "bef9ce5b",
   "metadata": {},
   "outputs": [
    {
     "data": {
      "text/plain": [
       "2        0\n",
       "3        0\n",
       "4        0\n",
       "5        0\n",
       "8        0\n",
       "        ..\n",
       "14744    0\n",
       "14745    0\n",
       "14747    0\n",
       "14750    0\n",
       "14756    0\n",
       "Name: TARGET, Length: 5286, dtype: int64"
      ]
     },
     "execution_count": 106,
     "metadata": {},
     "output_type": "execute_result"
    }
   ],
   "source": [
    "y"
   ]
  },
  {
   "cell_type": "code",
   "execution_count": 107,
   "id": "0c8c53ee",
   "metadata": {},
   "outputs": [
    {
     "name": "stdout",
     "output_type": "stream",
     "text": [
      "Cash loans         4742\n",
      "Revolving loans     544\n",
      "Name: CONTRACT_TYPE, dtype: int64\n",
      "................................................\n",
      "F    3624\n",
      "M    1662\n",
      "Name: GENDER, dtype: int64\n",
      "................................................\n",
      "Working                 2877\n",
      "Commercial associate    1430\n",
      "Pensioner                527\n",
      "State servant            452\n",
      "Name: INCOME_TYPE, dtype: int64\n",
      "................................................\n",
      "Secondary / secondary special    3384\n",
      "Higher education                 1648\n",
      "Incomplete higher                 213\n",
      "Lower secondary                    38\n",
      "Academic degree                     3\n",
      "Name: EDUCATION, dtype: int64\n",
      "................................................\n",
      "Married                 3498\n",
      "Single / not married     750\n",
      "Civil marriage           514\n",
      "Separated                361\n",
      "Widow                    163\n",
      "Name: FAMILY_STATUS, dtype: int64\n",
      "................................................\n",
      "House / apartment      4644\n",
      "With parents            294\n",
      "Municipal apartment     188\n",
      "Rented apartment         80\n",
      "Office apartment         57\n",
      "Co-op apartment          23\n",
      "Name: HOUSING_TYPE, dtype: int64\n",
      "................................................\n"
     ]
    }
   ],
   "source": [
    "for column in data.select_dtypes(include='object'):\n",
    "    print(data[column].value_counts())\n",
    "    print(\"................................................\")"
   ]
  },
  {
   "cell_type": "code",
   "execution_count": null,
   "id": "df8c2fbd",
   "metadata": {},
   "outputs": [],
   "source": []
  },
  {
   "cell_type": "code",
   "execution_count": null,
   "id": "1f394588",
   "metadata": {},
   "outputs": [],
   "source": []
  },
  {
   "cell_type": "code",
   "execution_count": 109,
   "id": "441e5e9d",
   "metadata": {},
   "outputs": [],
   "source": [
    "target = 'TARGET'\n",
    "median_list = []\n",
    "mean_list = []\n",
    "log_list = []\n",
    "      # 'cb_person_cred_hist_length'\n",
    "random_seed = 42\n",
    "test_size =0.3 \n",
    "label_encode =True\n",
    "#is_train=True\n",
    "catogerical_columns = [col for col in data.columns if data[col].dtype==\"O\"]"
   ]
  },
  {
   "cell_type": "code",
   "execution_count": 110,
   "id": "4474444b",
   "metadata": {},
   "outputs": [
    {
     "data": {
      "text/plain": [
       "['CONTRACT_TYPE',\n",
       " 'GENDER',\n",
       " 'INCOME_TYPE',\n",
       " 'EDUCATION',\n",
       " 'FAMILY_STATUS',\n",
       " 'HOUSING_TYPE']"
      ]
     },
     "execution_count": 110,
     "metadata": {},
     "output_type": "execute_result"
    }
   ],
   "source": [
    "catogerical_columns"
   ]
  },
  {
   "cell_type": "code",
   "execution_count": 111,
   "id": "e4bf2fea",
   "metadata": {},
   "outputs": [],
   "source": [
    "#Encoding categorical data\n",
    "from sklearn.preprocessing import LabelEncoder"
   ]
  },
  {
   "cell_type": "code",
   "execution_count": 146,
   "id": "0e7881ea",
   "metadata": {},
   "outputs": [],
   "source": [
    "number = LabelEncoder()\n",
    "data['CONTRACT_TYPE']=number.fit_transform(data['CONTRACT_TYPE'].astype('str'))"
   ]
  },
  {
   "cell_type": "code",
   "execution_count": 148,
   "id": "789747a1",
   "metadata": {},
   "outputs": [],
   "source": [
    "number = LabelEncoder()\n",
    "data['GENDER']=number.fit_transform(data['GENDER'].astype('str'))"
   ]
  },
  {
   "cell_type": "code",
   "execution_count": 150,
   "id": "e2b728f4",
   "metadata": {},
   "outputs": [],
   "source": [
    "number = LabelEncoder()\n",
    "data['INCOME_TYPE']=number.fit_transform(data['INCOME_TYPE'].astype('str'))"
   ]
  },
  {
   "cell_type": "code",
   "execution_count": 151,
   "id": "d90a728f",
   "metadata": {},
   "outputs": [],
   "source": [
    "number = LabelEncoder()\n",
    "data['EDUCATION']=number.fit_transform(data['EDUCATION'].astype('str'))"
   ]
  },
  {
   "cell_type": "code",
   "execution_count": 152,
   "id": "5af73d3d",
   "metadata": {},
   "outputs": [],
   "source": [
    "number = LabelEncoder()\n",
    "data['FAMILY_STATUS']=number.fit_transform(data['FAMILY_STATUS'].astype('str'))"
   ]
  },
  {
   "cell_type": "code",
   "execution_count": 153,
   "id": "0589ab45",
   "metadata": {},
   "outputs": [],
   "source": [
    "number = LabelEncoder()\n",
    "data['HOUSING_TYPE']=number.fit_transform(data['HOUSING_TYPE'].astype('str'))"
   ]
  },
  {
   "cell_type": "code",
   "execution_count": 154,
   "id": "c617384b",
   "metadata": {},
   "outputs": [],
   "source": [
    "number = LabelEncoder()\n",
    "data['ORGANIZATION_TYPE']=number.fit_transform(data['ORGANIZATION_TYPE'].astype('str'))"
   ]
  },
  {
   "cell_type": "code",
   "execution_count": 112,
   "id": "cba4bdc7",
   "metadata": {},
   "outputs": [],
   "source": [
    "number = LabelEncoder()\n",
    "data['CONTRACT_TYPE']=number.fit_transform(data['CONTRACT_TYPE'].astype('str'))\n",
    "data['GENDER']=number.fit_transform(data['GENDER'].astype('str'))\n",
    "data['INCOME_TYPE']=number.fit_transform(data['INCOME_TYPE'].astype('str'))\n",
    "data['EDUCATION']=number.fit_transform(data['EDUCATION'].astype('str'))\n",
    "data['FAMILY_STATUS']=number.fit_transform(data['FAMILY_STATUS'].astype('str'))\n",
    "data['HOUSING_TYPE']=number.fit_transform(data['HOUSING_TYPE'].astype('str'))"
   ]
  },
  {
   "cell_type": "code",
   "execution_count": null,
   "id": "6a9ea8d2",
   "metadata": {},
   "outputs": [],
   "source": []
  },
  {
   "cell_type": "code",
   "execution_count": null,
   "id": "43d3eb4c",
   "metadata": {},
   "outputs": [],
   "source": []
  },
  {
   "cell_type": "code",
   "execution_count": null,
   "id": "a9b791e4",
   "metadata": {},
   "outputs": [],
   "source": []
  },
  {
   "cell_type": "code",
   "execution_count": 113,
   "id": "9912d7a4",
   "metadata": {},
   "outputs": [
    {
     "data": {
      "text/html": [
       "<div>\n",
       "<style scoped>\n",
       "    .dataframe tbody tr th:only-of-type {\n",
       "        vertical-align: middle;\n",
       "    }\n",
       "\n",
       "    .dataframe tbody tr th {\n",
       "        vertical-align: top;\n",
       "    }\n",
       "\n",
       "    .dataframe thead th {\n",
       "        text-align: right;\n",
       "    }\n",
       "</style>\n",
       "<table border=\"1\" class=\"dataframe\">\n",
       "  <thead>\n",
       "    <tr style=\"text-align: right;\">\n",
       "      <th></th>\n",
       "      <th>TARGET</th>\n",
       "      <th>CONTRACT_TYPE</th>\n",
       "      <th>GENDER</th>\n",
       "      <th>NUM_CHILDREN</th>\n",
       "      <th>INCOME</th>\n",
       "      <th>APPROVED_CREDIT</th>\n",
       "      <th>ANNUITY</th>\n",
       "      <th>PRICE</th>\n",
       "      <th>INCOME_TYPE</th>\n",
       "      <th>EDUCATION</th>\n",
       "      <th>FAMILY_STATUS</th>\n",
       "      <th>HOUSING_TYPE</th>\n",
       "      <th>EXT_SCORE_1</th>\n",
       "      <th>EXT_SCORE_2</th>\n",
       "      <th>EXT_SCORE_3</th>\n",
       "    </tr>\n",
       "  </thead>\n",
       "  <tbody>\n",
       "    <tr>\n",
       "      <th>2</th>\n",
       "      <td>0</td>\n",
       "      <td>0</td>\n",
       "      <td>0</td>\n",
       "      <td>1</td>\n",
       "      <td>90000.0</td>\n",
       "      <td>247500.0</td>\n",
       "      <td>8887.5</td>\n",
       "      <td>247500.0</td>\n",
       "      <td>3</td>\n",
       "      <td>4</td>\n",
       "      <td>1</td>\n",
       "      <td>1</td>\n",
       "      <td>0.814700</td>\n",
       "      <td>0.686312</td>\n",
       "      <td>0.758393</td>\n",
       "    </tr>\n",
       "    <tr>\n",
       "      <th>3</th>\n",
       "      <td>0</td>\n",
       "      <td>0</td>\n",
       "      <td>1</td>\n",
       "      <td>2</td>\n",
       "      <td>112500.0</td>\n",
       "      <td>506889.0</td>\n",
       "      <td>24781.5</td>\n",
       "      <td>418500.0</td>\n",
       "      <td>3</td>\n",
       "      <td>4</td>\n",
       "      <td>1</td>\n",
       "      <td>1</td>\n",
       "      <td>0.399219</td>\n",
       "      <td>0.266520</td>\n",
       "      <td>0.058826</td>\n",
       "    </tr>\n",
       "    <tr>\n",
       "      <th>4</th>\n",
       "      <td>0</td>\n",
       "      <td>0</td>\n",
       "      <td>1</td>\n",
       "      <td>0</td>\n",
       "      <td>216000.0</td>\n",
       "      <td>450000.0</td>\n",
       "      <td>21888.0</td>\n",
       "      <td>450000.0</td>\n",
       "      <td>3</td>\n",
       "      <td>2</td>\n",
       "      <td>1</td>\n",
       "      <td>1</td>\n",
       "      <td>0.368452</td>\n",
       "      <td>0.610483</td>\n",
       "      <td>0.392774</td>\n",
       "    </tr>\n",
       "    <tr>\n",
       "      <th>5</th>\n",
       "      <td>0</td>\n",
       "      <td>0</td>\n",
       "      <td>0</td>\n",
       "      <td>0</td>\n",
       "      <td>58500.0</td>\n",
       "      <td>135000.0</td>\n",
       "      <td>7321.5</td>\n",
       "      <td>135000.0</td>\n",
       "      <td>3</td>\n",
       "      <td>4</td>\n",
       "      <td>3</td>\n",
       "      <td>5</td>\n",
       "      <td>0.501097</td>\n",
       "      <td>0.067371</td>\n",
       "      <td>0.199771</td>\n",
       "    </tr>\n",
       "    <tr>\n",
       "      <th>8</th>\n",
       "      <td>0</td>\n",
       "      <td>0</td>\n",
       "      <td>0</td>\n",
       "      <td>0</td>\n",
       "      <td>112500.0</td>\n",
       "      <td>665892.0</td>\n",
       "      <td>19210.5</td>\n",
       "      <td>477000.0</td>\n",
       "      <td>1</td>\n",
       "      <td>4</td>\n",
       "      <td>1</td>\n",
       "      <td>1</td>\n",
       "      <td>0.699160</td>\n",
       "      <td>0.673492</td>\n",
       "      <td>0.510090</td>\n",
       "    </tr>\n",
       "    <tr>\n",
       "      <th>...</th>\n",
       "      <td>...</td>\n",
       "      <td>...</td>\n",
       "      <td>...</td>\n",
       "      <td>...</td>\n",
       "      <td>...</td>\n",
       "      <td>...</td>\n",
       "      <td>...</td>\n",
       "      <td>...</td>\n",
       "      <td>...</td>\n",
       "      <td>...</td>\n",
       "      <td>...</td>\n",
       "      <td>...</td>\n",
       "      <td>...</td>\n",
       "      <td>...</td>\n",
       "      <td>...</td>\n",
       "    </tr>\n",
       "    <tr>\n",
       "      <th>14744</th>\n",
       "      <td>0</td>\n",
       "      <td>0</td>\n",
       "      <td>1</td>\n",
       "      <td>0</td>\n",
       "      <td>315000.0</td>\n",
       "      <td>225000.0</td>\n",
       "      <td>23755.5</td>\n",
       "      <td>225000.0</td>\n",
       "      <td>0</td>\n",
       "      <td>4</td>\n",
       "      <td>1</td>\n",
       "      <td>1</td>\n",
       "      <td>0.184000</td>\n",
       "      <td>0.470237</td>\n",
       "      <td>0.468660</td>\n",
       "    </tr>\n",
       "    <tr>\n",
       "      <th>14745</th>\n",
       "      <td>0</td>\n",
       "      <td>0</td>\n",
       "      <td>0</td>\n",
       "      <td>0</td>\n",
       "      <td>126000.0</td>\n",
       "      <td>263686.5</td>\n",
       "      <td>28525.5</td>\n",
       "      <td>238500.0</td>\n",
       "      <td>0</td>\n",
       "      <td>4</td>\n",
       "      <td>1</td>\n",
       "      <td>1</td>\n",
       "      <td>0.504087</td>\n",
       "      <td>0.551037</td>\n",
       "      <td>0.273565</td>\n",
       "    </tr>\n",
       "    <tr>\n",
       "      <th>14747</th>\n",
       "      <td>0</td>\n",
       "      <td>1</td>\n",
       "      <td>1</td>\n",
       "      <td>0</td>\n",
       "      <td>157500.0</td>\n",
       "      <td>337500.0</td>\n",
       "      <td>16875.0</td>\n",
       "      <td>337500.0</td>\n",
       "      <td>3</td>\n",
       "      <td>1</td>\n",
       "      <td>1</td>\n",
       "      <td>1</td>\n",
       "      <td>0.887527</td>\n",
       "      <td>0.727850</td>\n",
       "      <td>0.590233</td>\n",
       "    </tr>\n",
       "    <tr>\n",
       "      <th>14750</th>\n",
       "      <td>0</td>\n",
       "      <td>1</td>\n",
       "      <td>0</td>\n",
       "      <td>0</td>\n",
       "      <td>45000.0</td>\n",
       "      <td>135000.0</td>\n",
       "      <td>6750.0</td>\n",
       "      <td>135000.0</td>\n",
       "      <td>3</td>\n",
       "      <td>1</td>\n",
       "      <td>1</td>\n",
       "      <td>1</td>\n",
       "      <td>0.770063</td>\n",
       "      <td>0.583092</td>\n",
       "      <td>0.709189</td>\n",
       "    </tr>\n",
       "    <tr>\n",
       "      <th>14756</th>\n",
       "      <td>0</td>\n",
       "      <td>0</td>\n",
       "      <td>0</td>\n",
       "      <td>1</td>\n",
       "      <td>67500.0</td>\n",
       "      <td>112500.0</td>\n",
       "      <td>7317.0</td>\n",
       "      <td>112500.0</td>\n",
       "      <td>3</td>\n",
       "      <td>4</td>\n",
       "      <td>1</td>\n",
       "      <td>1</td>\n",
       "      <td>0.570305</td>\n",
       "      <td>0.399628</td>\n",
       "      <td>0.586740</td>\n",
       "    </tr>\n",
       "  </tbody>\n",
       "</table>\n",
       "<p>5286 rows × 15 columns</p>\n",
       "</div>"
      ],
      "text/plain": [
       "       TARGET  CONTRACT_TYPE  GENDER  NUM_CHILDREN    INCOME  APPROVED_CREDIT  \\\n",
       "2           0              0       0             1   90000.0         247500.0   \n",
       "3           0              0       1             2  112500.0         506889.0   \n",
       "4           0              0       1             0  216000.0         450000.0   \n",
       "5           0              0       0             0   58500.0         135000.0   \n",
       "8           0              0       0             0  112500.0         665892.0   \n",
       "...       ...            ...     ...           ...       ...              ...   \n",
       "14744       0              0       1             0  315000.0         225000.0   \n",
       "14745       0              0       0             0  126000.0         263686.5   \n",
       "14747       0              1       1             0  157500.0         337500.0   \n",
       "14750       0              1       0             0   45000.0         135000.0   \n",
       "14756       0              0       0             1   67500.0         112500.0   \n",
       "\n",
       "       ANNUITY     PRICE  INCOME_TYPE  EDUCATION  FAMILY_STATUS  HOUSING_TYPE  \\\n",
       "2       8887.5  247500.0            3          4              1             1   \n",
       "3      24781.5  418500.0            3          4              1             1   \n",
       "4      21888.0  450000.0            3          2              1             1   \n",
       "5       7321.5  135000.0            3          4              3             5   \n",
       "8      19210.5  477000.0            1          4              1             1   \n",
       "...        ...       ...          ...        ...            ...           ...   \n",
       "14744  23755.5  225000.0            0          4              1             1   \n",
       "14745  28525.5  238500.0            0          4              1             1   \n",
       "14747  16875.0  337500.0            3          1              1             1   \n",
       "14750   6750.0  135000.0            3          1              1             1   \n",
       "14756   7317.0  112500.0            3          4              1             1   \n",
       "\n",
       "       EXT_SCORE_1  EXT_SCORE_2  EXT_SCORE_3  \n",
       "2         0.814700     0.686312     0.758393  \n",
       "3         0.399219     0.266520     0.058826  \n",
       "4         0.368452     0.610483     0.392774  \n",
       "5         0.501097     0.067371     0.199771  \n",
       "8         0.699160     0.673492     0.510090  \n",
       "...            ...          ...          ...  \n",
       "14744     0.184000     0.470237     0.468660  \n",
       "14745     0.504087     0.551037     0.273565  \n",
       "14747     0.887527     0.727850     0.590233  \n",
       "14750     0.770063     0.583092     0.709189  \n",
       "14756     0.570305     0.399628     0.586740  \n",
       "\n",
       "[5286 rows x 15 columns]"
      ]
     },
     "execution_count": 113,
     "metadata": {},
     "output_type": "execute_result"
    }
   ],
   "source": [
    "data"
   ]
  },
  {
   "cell_type": "code",
   "execution_count": null,
   "id": "f6d24227",
   "metadata": {},
   "outputs": [],
   "source": []
  },
  {
   "cell_type": "code",
   "execution_count": 114,
   "id": "618714bf",
   "metadata": {},
   "outputs": [],
   "source": [
    "x = data.iloc[ :, 1:15]\n",
    "y = data['TARGET']"
   ]
  },
  {
   "cell_type": "code",
   "execution_count": 115,
   "id": "179a9499",
   "metadata": {},
   "outputs": [
    {
     "data": {
      "text/html": [
       "<div>\n",
       "<style scoped>\n",
       "    .dataframe tbody tr th:only-of-type {\n",
       "        vertical-align: middle;\n",
       "    }\n",
       "\n",
       "    .dataframe tbody tr th {\n",
       "        vertical-align: top;\n",
       "    }\n",
       "\n",
       "    .dataframe thead th {\n",
       "        text-align: right;\n",
       "    }\n",
       "</style>\n",
       "<table border=\"1\" class=\"dataframe\">\n",
       "  <thead>\n",
       "    <tr style=\"text-align: right;\">\n",
       "      <th></th>\n",
       "      <th>CONTRACT_TYPE</th>\n",
       "      <th>GENDER</th>\n",
       "      <th>NUM_CHILDREN</th>\n",
       "      <th>INCOME</th>\n",
       "      <th>APPROVED_CREDIT</th>\n",
       "      <th>ANNUITY</th>\n",
       "      <th>PRICE</th>\n",
       "      <th>INCOME_TYPE</th>\n",
       "      <th>EDUCATION</th>\n",
       "      <th>FAMILY_STATUS</th>\n",
       "      <th>HOUSING_TYPE</th>\n",
       "      <th>EXT_SCORE_1</th>\n",
       "      <th>EXT_SCORE_2</th>\n",
       "      <th>EXT_SCORE_3</th>\n",
       "    </tr>\n",
       "  </thead>\n",
       "  <tbody>\n",
       "    <tr>\n",
       "      <th>2</th>\n",
       "      <td>0</td>\n",
       "      <td>0</td>\n",
       "      <td>1</td>\n",
       "      <td>90000.0</td>\n",
       "      <td>247500.0</td>\n",
       "      <td>8887.5</td>\n",
       "      <td>247500.0</td>\n",
       "      <td>3</td>\n",
       "      <td>4</td>\n",
       "      <td>1</td>\n",
       "      <td>1</td>\n",
       "      <td>0.814700</td>\n",
       "      <td>0.686312</td>\n",
       "      <td>0.758393</td>\n",
       "    </tr>\n",
       "    <tr>\n",
       "      <th>3</th>\n",
       "      <td>0</td>\n",
       "      <td>1</td>\n",
       "      <td>2</td>\n",
       "      <td>112500.0</td>\n",
       "      <td>506889.0</td>\n",
       "      <td>24781.5</td>\n",
       "      <td>418500.0</td>\n",
       "      <td>3</td>\n",
       "      <td>4</td>\n",
       "      <td>1</td>\n",
       "      <td>1</td>\n",
       "      <td>0.399219</td>\n",
       "      <td>0.266520</td>\n",
       "      <td>0.058826</td>\n",
       "    </tr>\n",
       "    <tr>\n",
       "      <th>4</th>\n",
       "      <td>0</td>\n",
       "      <td>1</td>\n",
       "      <td>0</td>\n",
       "      <td>216000.0</td>\n",
       "      <td>450000.0</td>\n",
       "      <td>21888.0</td>\n",
       "      <td>450000.0</td>\n",
       "      <td>3</td>\n",
       "      <td>2</td>\n",
       "      <td>1</td>\n",
       "      <td>1</td>\n",
       "      <td>0.368452</td>\n",
       "      <td>0.610483</td>\n",
       "      <td>0.392774</td>\n",
       "    </tr>\n",
       "    <tr>\n",
       "      <th>5</th>\n",
       "      <td>0</td>\n",
       "      <td>0</td>\n",
       "      <td>0</td>\n",
       "      <td>58500.0</td>\n",
       "      <td>135000.0</td>\n",
       "      <td>7321.5</td>\n",
       "      <td>135000.0</td>\n",
       "      <td>3</td>\n",
       "      <td>4</td>\n",
       "      <td>3</td>\n",
       "      <td>5</td>\n",
       "      <td>0.501097</td>\n",
       "      <td>0.067371</td>\n",
       "      <td>0.199771</td>\n",
       "    </tr>\n",
       "    <tr>\n",
       "      <th>8</th>\n",
       "      <td>0</td>\n",
       "      <td>0</td>\n",
       "      <td>0</td>\n",
       "      <td>112500.0</td>\n",
       "      <td>665892.0</td>\n",
       "      <td>19210.5</td>\n",
       "      <td>477000.0</td>\n",
       "      <td>1</td>\n",
       "      <td>4</td>\n",
       "      <td>1</td>\n",
       "      <td>1</td>\n",
       "      <td>0.699160</td>\n",
       "      <td>0.673492</td>\n",
       "      <td>0.510090</td>\n",
       "    </tr>\n",
       "    <tr>\n",
       "      <th>...</th>\n",
       "      <td>...</td>\n",
       "      <td>...</td>\n",
       "      <td>...</td>\n",
       "      <td>...</td>\n",
       "      <td>...</td>\n",
       "      <td>...</td>\n",
       "      <td>...</td>\n",
       "      <td>...</td>\n",
       "      <td>...</td>\n",
       "      <td>...</td>\n",
       "      <td>...</td>\n",
       "      <td>...</td>\n",
       "      <td>...</td>\n",
       "      <td>...</td>\n",
       "    </tr>\n",
       "    <tr>\n",
       "      <th>14744</th>\n",
       "      <td>0</td>\n",
       "      <td>1</td>\n",
       "      <td>0</td>\n",
       "      <td>315000.0</td>\n",
       "      <td>225000.0</td>\n",
       "      <td>23755.5</td>\n",
       "      <td>225000.0</td>\n",
       "      <td>0</td>\n",
       "      <td>4</td>\n",
       "      <td>1</td>\n",
       "      <td>1</td>\n",
       "      <td>0.184000</td>\n",
       "      <td>0.470237</td>\n",
       "      <td>0.468660</td>\n",
       "    </tr>\n",
       "    <tr>\n",
       "      <th>14745</th>\n",
       "      <td>0</td>\n",
       "      <td>0</td>\n",
       "      <td>0</td>\n",
       "      <td>126000.0</td>\n",
       "      <td>263686.5</td>\n",
       "      <td>28525.5</td>\n",
       "      <td>238500.0</td>\n",
       "      <td>0</td>\n",
       "      <td>4</td>\n",
       "      <td>1</td>\n",
       "      <td>1</td>\n",
       "      <td>0.504087</td>\n",
       "      <td>0.551037</td>\n",
       "      <td>0.273565</td>\n",
       "    </tr>\n",
       "    <tr>\n",
       "      <th>14747</th>\n",
       "      <td>1</td>\n",
       "      <td>1</td>\n",
       "      <td>0</td>\n",
       "      <td>157500.0</td>\n",
       "      <td>337500.0</td>\n",
       "      <td>16875.0</td>\n",
       "      <td>337500.0</td>\n",
       "      <td>3</td>\n",
       "      <td>1</td>\n",
       "      <td>1</td>\n",
       "      <td>1</td>\n",
       "      <td>0.887527</td>\n",
       "      <td>0.727850</td>\n",
       "      <td>0.590233</td>\n",
       "    </tr>\n",
       "    <tr>\n",
       "      <th>14750</th>\n",
       "      <td>1</td>\n",
       "      <td>0</td>\n",
       "      <td>0</td>\n",
       "      <td>45000.0</td>\n",
       "      <td>135000.0</td>\n",
       "      <td>6750.0</td>\n",
       "      <td>135000.0</td>\n",
       "      <td>3</td>\n",
       "      <td>1</td>\n",
       "      <td>1</td>\n",
       "      <td>1</td>\n",
       "      <td>0.770063</td>\n",
       "      <td>0.583092</td>\n",
       "      <td>0.709189</td>\n",
       "    </tr>\n",
       "    <tr>\n",
       "      <th>14756</th>\n",
       "      <td>0</td>\n",
       "      <td>0</td>\n",
       "      <td>1</td>\n",
       "      <td>67500.0</td>\n",
       "      <td>112500.0</td>\n",
       "      <td>7317.0</td>\n",
       "      <td>112500.0</td>\n",
       "      <td>3</td>\n",
       "      <td>4</td>\n",
       "      <td>1</td>\n",
       "      <td>1</td>\n",
       "      <td>0.570305</td>\n",
       "      <td>0.399628</td>\n",
       "      <td>0.586740</td>\n",
       "    </tr>\n",
       "  </tbody>\n",
       "</table>\n",
       "<p>5286 rows × 14 columns</p>\n",
       "</div>"
      ],
      "text/plain": [
       "       CONTRACT_TYPE  GENDER  NUM_CHILDREN    INCOME  APPROVED_CREDIT  \\\n",
       "2                  0       0             1   90000.0         247500.0   \n",
       "3                  0       1             2  112500.0         506889.0   \n",
       "4                  0       1             0  216000.0         450000.0   \n",
       "5                  0       0             0   58500.0         135000.0   \n",
       "8                  0       0             0  112500.0         665892.0   \n",
       "...              ...     ...           ...       ...              ...   \n",
       "14744              0       1             0  315000.0         225000.0   \n",
       "14745              0       0             0  126000.0         263686.5   \n",
       "14747              1       1             0  157500.0         337500.0   \n",
       "14750              1       0             0   45000.0         135000.0   \n",
       "14756              0       0             1   67500.0         112500.0   \n",
       "\n",
       "       ANNUITY     PRICE  INCOME_TYPE  EDUCATION  FAMILY_STATUS  HOUSING_TYPE  \\\n",
       "2       8887.5  247500.0            3          4              1             1   \n",
       "3      24781.5  418500.0            3          4              1             1   \n",
       "4      21888.0  450000.0            3          2              1             1   \n",
       "5       7321.5  135000.0            3          4              3             5   \n",
       "8      19210.5  477000.0            1          4              1             1   \n",
       "...        ...       ...          ...        ...            ...           ...   \n",
       "14744  23755.5  225000.0            0          4              1             1   \n",
       "14745  28525.5  238500.0            0          4              1             1   \n",
       "14747  16875.0  337500.0            3          1              1             1   \n",
       "14750   6750.0  135000.0            3          1              1             1   \n",
       "14756   7317.0  112500.0            3          4              1             1   \n",
       "\n",
       "       EXT_SCORE_1  EXT_SCORE_2  EXT_SCORE_3  \n",
       "2         0.814700     0.686312     0.758393  \n",
       "3         0.399219     0.266520     0.058826  \n",
       "4         0.368452     0.610483     0.392774  \n",
       "5         0.501097     0.067371     0.199771  \n",
       "8         0.699160     0.673492     0.510090  \n",
       "...            ...          ...          ...  \n",
       "14744     0.184000     0.470237     0.468660  \n",
       "14745     0.504087     0.551037     0.273565  \n",
       "14747     0.887527     0.727850     0.590233  \n",
       "14750     0.770063     0.583092     0.709189  \n",
       "14756     0.570305     0.399628     0.586740  \n",
       "\n",
       "[5286 rows x 14 columns]"
      ]
     },
     "execution_count": 115,
     "metadata": {},
     "output_type": "execute_result"
    }
   ],
   "source": [
    "x"
   ]
  },
  {
   "cell_type": "code",
   "execution_count": 116,
   "id": "ea86b4c0",
   "metadata": {},
   "outputs": [
    {
     "data": {
      "text/plain": [
       "2        0\n",
       "3        0\n",
       "4        0\n",
       "5        0\n",
       "8        0\n",
       "        ..\n",
       "14744    0\n",
       "14745    0\n",
       "14747    0\n",
       "14750    0\n",
       "14756    0\n",
       "Name: TARGET, Length: 5286, dtype: int64"
      ]
     },
     "execution_count": 116,
     "metadata": {},
     "output_type": "execute_result"
    }
   ],
   "source": [
    "y"
   ]
  },
  {
   "cell_type": "code",
   "execution_count": null,
   "id": "69aa51f1",
   "metadata": {},
   "outputs": [],
   "source": []
  },
  {
   "cell_type": "code",
   "execution_count": null,
   "id": "fc2f2a9f",
   "metadata": {},
   "outputs": [],
   "source": []
  },
  {
   "cell_type": "code",
   "execution_count": 117,
   "id": "6c0e0d08",
   "metadata": {},
   "outputs": [],
   "source": [
    "from sklearn.model_selection import train_test_split"
   ]
  },
  {
   "cell_type": "code",
   "execution_count": 129,
   "id": "f308e82a",
   "metadata": {},
   "outputs": [],
   "source": [
    "x_train, x_test,y_train,y_test=train_test_split(x,y, test_size =0.1, random_state=0)"
   ]
  },
  {
   "cell_type": "code",
   "execution_count": 130,
   "id": "a41187c1",
   "metadata": {},
   "outputs": [],
   "source": [
    "from sklearn.linear_model import LogisticRegression"
   ]
  },
  {
   "cell_type": "code",
   "execution_count": 131,
   "id": "3dbf3740",
   "metadata": {},
   "outputs": [
    {
     "data": {
      "text/plain": [
       "LogisticRegression(random_state=0)"
      ]
     },
     "execution_count": 131,
     "metadata": {},
     "output_type": "execute_result"
    }
   ],
   "source": [
    "classifier = LogisticRegression(random_state=0)\n",
    "classifier.fit(x_train, y_train)"
   ]
  },
  {
   "cell_type": "code",
   "execution_count": 132,
   "id": "a038af2d",
   "metadata": {},
   "outputs": [],
   "source": [
    "y_pred = classifier.predict(x_train)"
   ]
  },
  {
   "cell_type": "code",
   "execution_count": 133,
   "id": "d58ca93f",
   "metadata": {},
   "outputs": [
    {
     "data": {
      "text/plain": [
       "array([0, 0, 0, ..., 0, 0, 0], dtype=int64)"
      ]
     },
     "execution_count": 133,
     "metadata": {},
     "output_type": "execute_result"
    }
   ],
   "source": [
    "y_pred"
   ]
  },
  {
   "cell_type": "code",
   "execution_count": 134,
   "id": "08cf0683",
   "metadata": {},
   "outputs": [],
   "source": [
    "from sklearn.metrics import confusion_matrix"
   ]
  },
  {
   "cell_type": "code",
   "execution_count": 135,
   "id": "8f4bf76d",
   "metadata": {},
   "outputs": [
    {
     "data": {
      "text/plain": [
       "array([[4429,    0],\n",
       "       [ 328,    0]], dtype=int64)"
      ]
     },
     "execution_count": 135,
     "metadata": {},
     "output_type": "execute_result"
    }
   ],
   "source": [
    "cm_tr = confusion_matrix(y_train, y_pred)\n",
    "cm_tr"
   ]
  },
  {
   "cell_type": "code",
   "execution_count": 125,
   "id": "d322b94c",
   "metadata": {},
   "outputs": [
    {
     "data": {
      "text/plain": [
       "0.9321192052980133"
      ]
     },
     "execution_count": 125,
     "metadata": {},
     "output_type": "execute_result"
    }
   ],
   "source": [
    "3941/4228"
   ]
  },
  {
   "cell_type": "code",
   "execution_count": 136,
   "id": "10d8d81b",
   "metadata": {},
   "outputs": [],
   "source": [
    "from sklearn.metrics import accuracy_score, confusion_matrix, classification_report\n",
    "\n",
    "def print_score(clf, x_train, y_train, x_test, y_test, train=True):\n",
    "    if train:\n",
    "        pred = clf.predict(x_train)\n",
    "        clf_report = pd.DataFrame(classification_report(y_train, pred, output_dict=True))\n",
    "        print(\"Train Result:\\n================================================\")\n",
    "        print(f\"Accuracy Score: {accuracy_score(y_train, pred) * 100:.2f}%\")\n",
    "        print(\"_______________________________________________\")\n",
    "        print(f\"CLASSIFICATION REPORT:\\n{clf_report}\")\n",
    "        print(\"_______________________________________________\")\n",
    "        print(f\"Confusion Matrix: \\n {confusion_matrix(y_train, pred)}\\n\")\n",
    "        \n",
    "    elif train==False:\n",
    "        pred = clf.predict(x_test)\n",
    "        clf_report = pd.DataFrame(classification_report(y_test, pred, output_dict=True))\n",
    "        print(\"Test Result:\\n================================================\")        \n",
    "        print(f\"Accuracy Score: {accuracy_score(y_test, pred) * 100:.2f}%\")\n",
    "        print(\"_______________________________________________\")\n",
    "        print(f\"CLASSIFICATION REPORT:\\n{clf_report}\")\n",
    "        print(\"_______________________________________________\")\n",
    "        print(f\"Confusion Matrix: \\n {confusion_matrix(y_test, pred)}\\n\")"
   ]
  },
  {
   "cell_type": "code",
   "execution_count": 127,
   "id": "90a94b13",
   "metadata": {},
   "outputs": [
    {
     "name": "stdout",
     "output_type": "stream",
     "text": [
      "Train Result:\n",
      "================================================\n",
      "Accuracy Score: 93.21%\n",
      "_______________________________________________\n",
      "CLASSIFICATION REPORT:\n",
      "                     0      1  accuracy    macro avg  weighted avg\n",
      "precision     0.932119    0.0  0.932119     0.466060      0.868846\n",
      "recall        1.000000    0.0  0.932119     0.500000      0.932119\n",
      "f1-score      0.964867    0.0  0.932119     0.482434      0.899371\n",
      "support    3941.000000  287.0  0.932119  4228.000000   4228.000000\n",
      "_______________________________________________\n",
      "Confusion Matrix: \n",
      " [[3941    0]\n",
      " [ 287    0]]\n",
      "\n",
      "Test Result:\n",
      "================================================\n",
      "Accuracy Score: 91.97%\n",
      "_______________________________________________\n",
      "CLASSIFICATION REPORT:\n",
      "                    0     1  accuracy    macro avg  weighted avg\n",
      "precision    0.919660   0.0   0.91966     0.459830      0.845774\n",
      "recall       1.000000   0.0   0.91966     0.500000      0.919660\n",
      "f1-score     0.958149   0.0   0.91966     0.479074      0.881171\n",
      "support    973.000000  85.0   0.91966  1058.000000   1058.000000\n",
      "_______________________________________________\n",
      "Confusion Matrix: \n",
      " [[973   0]\n",
      " [ 85   0]]\n",
      "\n"
     ]
    }
   ],
   "source": [
    "from sklearn.linear_model import LogisticRegression\n",
    "\n",
    "lr_clf = LogisticRegression(solver='liblinear')\n",
    "lr_clf.fit(x_train, y_train)\n",
    "\n",
    "print_score(lr_clf, x_train, y_train, x_test, y_test, train=True)\n",
    "print_score(lr_clf, x_train, y_train, x_test, y_test, train=False)"
   ]
  },
  {
   "cell_type": "code",
   "execution_count": null,
   "id": "e1fa6951",
   "metadata": {},
   "outputs": [],
   "source": []
  },
  {
   "cell_type": "code",
   "execution_count": null,
   "id": "0547ee3d",
   "metadata": {},
   "outputs": [],
   "source": []
  },
  {
   "cell_type": "code",
   "execution_count": 149,
   "id": "220f625e",
   "metadata": {},
   "outputs": [],
   "source": [
    "svm_prob = classifier.predict_proba(x_test)"
   ]
  },
  {
   "cell_type": "code",
   "execution_count": 139,
   "id": "6d9b17b4",
   "metadata": {},
   "outputs": [],
   "source": [
    "random_probs=[0 for _ in range(len(y_test))]"
   ]
  },
  {
   "cell_type": "code",
   "execution_count": 140,
   "id": "ded81834",
   "metadata": {},
   "outputs": [
    {
     "data": {
      "text/plain": [
       "array([[0.99123483, 0.00876517],\n",
       "       [0.92081331, 0.07918669],\n",
       "       [0.95533568, 0.04466432],\n",
       "       ...,\n",
       "       [0.94826379, 0.05173621],\n",
       "       [0.67598605, 0.32401395],\n",
       "       [0.95203868, 0.04796132]])"
      ]
     },
     "execution_count": 140,
     "metadata": {},
     "output_type": "execute_result"
    }
   ],
   "source": [
    "svm_probs"
   ]
  },
  {
   "cell_type": "code",
   "execution_count": 141,
   "id": "ad491999",
   "metadata": {},
   "outputs": [],
   "source": [
    "svm_probs = svm_probs[:,1]"
   ]
  },
  {
   "cell_type": "code",
   "execution_count": null,
   "id": "af55faa5",
   "metadata": {},
   "outputs": [],
   "source": []
  },
  {
   "cell_type": "code",
   "execution_count": null,
   "id": "3619a950",
   "metadata": {},
   "outputs": [],
   "source": []
  },
  {
   "cell_type": "code",
   "execution_count": 137,
   "id": "fd5b737c",
   "metadata": {},
   "outputs": [
    {
     "data": {
      "text/plain": [
       "0.5"
      ]
     },
     "execution_count": 137,
     "metadata": {},
     "output_type": "execute_result"
    }
   ],
   "source": [
    "#area under ROC\n",
    "from sklearn.metrics import roc_auc_score\n",
    "roc_auc_score(y_true= y_train, y_score=y_pred)"
   ]
  },
  {
   "cell_type": "code",
   "execution_count": 142,
   "id": "79ce39df",
   "metadata": {},
   "outputs": [],
   "source": [
    "#menghitung AUC\n",
    "random_auc = roc_auc_score(y_test, random_probs)"
   ]
  },
  {
   "cell_type": "code",
   "execution_count": 143,
   "id": "b04777fa",
   "metadata": {},
   "outputs": [],
   "source": [
    "#menghitung auc svm classifier\n",
    "svm_auc = roc_auc_score(y_test, svm_probs)"
   ]
  },
  {
   "cell_type": "code",
   "execution_count": 144,
   "id": "73586f81",
   "metadata": {},
   "outputs": [
    {
     "name": "stdout",
     "output_type": "stream",
     "text": [
      "Random Prediction: AUCROC = 0.500\n",
      "SVM: AUCROC = 0.537\n"
     ]
    }
   ],
   "source": [
    "#menampilkan hasil\n",
    "print('Random Prediction: AUCROC = %.3f' % (random_auc))\n",
    "print('SVM: AUCROC = %.3f' %(svm_auc))"
   ]
  },
  {
   "cell_type": "code",
   "execution_count": 146,
   "id": "9020735a",
   "metadata": {},
   "outputs": [],
   "source": [
    "#membuat kurva ROC\n",
    "#menyimpan nilai yang dibutuhkan untuk membuat ROC curve (false positive rate, true positive rate)\n",
    "from sklearn.metrics import roc_curve, roc_auc_score\n",
    "from sklearn import svm\n",
    "random_fpr, random_tpr, _ = roc_curve(y_test, random_probs)\n",
    "svm_fpr, svm_tpr, _ = roc_curve(y_test,svm_probs)"
   ]
  },
  {
   "cell_type": "code",
   "execution_count": 147,
   "id": "8b9181b2",
   "metadata": {},
   "outputs": [
    {
     "data": {
      "image/png": "[encoded data removed]",
      "text/plain": [
       "<Figure size 432x288 with 1 Axes>"
      ]
     },
     "metadata": {
      "needs_background": "light"
     },
     "output_type": "display_data"
    }
   ],
   "source": [
    "#plot ROC curve dengan matplotlib.pyplot\n",
    "plt.plot(random_fpr, random_tpr, marker='.', label='Random: (AUCROC = %.3f)' % random_auc)\n",
    "plt.plot(svm_fpr, svm_tpr, marker='.', label='SVM: (AUCROC = %.3f)' % svm_auc)\n",
    "plt.title('ROC Plot')\n",
    "plt.xlabel('False Positive Rate')\n",
    "plt.ylabel('True Positive Rate')\n",
    "plt.legend()\n",
    "plt.show()"
   ]
  },
  {
   "cell_type": "code",
   "execution_count": null,
   "id": "98e7ab4e",
   "metadata": {},
   "outputs": [],
   "source": []
  }
 ],
 "metadata": {
  "kernelspec": {
   "display_name": "Python 3 (ipykernel)",
   "language": "python",
   "name": "python3"
  },
  "language_info": {
   "codemirror_mode": {
    "name": "ipython",
    "version": 3
   },
   "file_extension": ".py",
   "mimetype": "text/x-python",
   "name": "python",
   "nbconvert_exporter": "python",
   "pygments_lexer": "ipython3",
   "version": "3.9.7"
  }
 },
 "nbformat": 4,
 "nbformat_minor": 5
}
